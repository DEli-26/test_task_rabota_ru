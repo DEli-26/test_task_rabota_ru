{
 "cells": [
  {
   "cell_type": "markdown",
   "metadata": {
    "id": "90frxj7F-ZKk"
   },
   "source": [
    "<font size=6><b>**Тестовое от Работа.ру**</b></font>\n",
    "    \n",
    "<font size=6><b>**Бинарная классификации откликов**</b></font>\n",
    "\n",
    "<font size=4><b>Часть 3. Modeling.</b></font>\n",
    "\n",
    "***\n",
    "\n",
    "# Постановка задачи\n",
    "\n",
    "**Заказчик**  \n",
    "Работа.ру\n",
    "\n",
    "**Цель**  \n",
    "Автоматизировать труд рекрутеров в части просмотра и оценки резюме, что позволит существенно сэкономить ресурсы по подбору персонала.\n",
    "\n",
    "**Задачи**  \n",
    "\n",
    "1. Проанализировать датасет и провести обработку данных.\n",
    "1. Сгенерировать новые признаки.\n",
    "1. *На основе результатов предыдущего шага определить модель для предсказания  факта приглашения работодателем откликнувшегося соискателя на собеседование.*\n",
    "\n",
    "**Исходные данные**  \n",
    "\n",
    "Данные представлены в виде датасета с основными параметрами вакансий\\резюме (название, описание, требования по опыту работы, графику работы, знанию иностранных языков, перечень навыков и т. д.). \n",
    "Вакансии и резюме представлены парами.  \n",
    "Целевая переменная первой задачи – откликнется (1) или не откликнется (0) соискатель с данным резюме на данную вакансию.  \n",
    "Целевая переменная второй задачи – пригласит (1) или не пригласит (0) работодатель откликнувшегося соискателя на собеседование."
   ]
  },
  {
   "cell_type": "markdown",
   "metadata": {
    "id": "E63IE93sIYVL"
   },
   "source": [
    "\n",
    "# Подготовка окружения"
   ]
  },
  {
   "cell_type": "markdown",
   "metadata": {
    "id": "R3ShOu1lABhk"
   },
   "source": [
    "Загрузим библиотеки, необходимые для выполнения проекта."
   ]
  },
  {
   "cell_type": "code",
   "execution_count": 1,
   "metadata": {
    "id": "wVeJlm9BAPoi"
   },
   "outputs": [],
   "source": [
    "import matplotlib.pyplot as plt\n",
    "import numpy as np\n",
    "import pandas as pd\n",
    "from sklearn.metrics import average_precision_score\n",
    "from sklearn.model_selection import train_test_split, cross_val_score, StratifiedKFold\n",
    "from tqdm.notebook import tqdm"
   ]
  },
  {
   "cell_type": "code",
   "execution_count": 2,
   "metadata": {
    "id": "9KuXMpIgDtxy"
   },
   "outputs": [],
   "source": [
    "try:\n",
    "    from catboost import CatBoostClassifier, Pool, cv \n",
    "except Exception:\n",
    "    !pip install catboost\n",
    "    from catboost import CatBoostClassifier, Pool, cv"
   ]
  },
  {
   "cell_type": "code",
   "execution_count": 3,
   "metadata": {
    "id": "9_ESHR1ain5N"
   },
   "outputs": [],
   "source": [
    "try:\n",
    "    import optuna\n",
    "except Exception:\n",
    "    ! pip install optuna\n",
    "    import optuna"
   ]
  },
  {
   "cell_type": "code",
   "execution_count": 4,
   "metadata": {
    "id": "oRZcuFFb5Sjd"
   },
   "outputs": [],
   "source": [
    "try:\n",
    "    import shap\n",
    "except Exception:\n",
    "    !pip install shap\n",
    "    import shap"
   ]
  },
  {
   "cell_type": "code",
   "execution_count": 5,
   "metadata": {},
   "outputs": [],
   "source": [
    "# автоформатирование Jupyter lab\n",
    "try:\n",
    "    %load_ext lab_black\n",
    "except:\n",
    "    !pip install nb_black\n",
    "    %load_ext lab_black"
   ]
  },
  {
   "cell_type": "code",
   "execution_count": 6,
   "metadata": {
    "id": "uTXM_vbowVs9"
   },
   "outputs": [],
   "source": [
    "# отображение таблиц без ограничения на количество столбцов\n",
    "pd.set_option(\"display.max_columns\", None)"
   ]
  },
  {
   "cell_type": "markdown",
   "metadata": {
    "id": "qRZgdNYrAb28"
   },
   "source": [
    "Загрузим сами данные."
   ]
  },
  {
   "cell_type": "code",
   "execution_count": 7,
   "metadata": {
    "colab": {
     "base_uri": "https://localhost:8080/",
     "height": 0
    },
    "id": "M2_NTy7JCGVK",
    "outputId": "a4677080-2e76-48cb-8b16-fe4d580fa951"
   },
   "outputs": [],
   "source": [
    "try:\n",
    "    df = pd.read_csv(\"/content/vacancy_resume_data_preprocesed.csv\")  # Colab\n",
    "except FileNotFoundError:\n",
    "    df = pd.read_csv(\"vacancy_resume_data_preprocesed.csv\")  # Local"
   ]
  },
  {
   "cell_type": "code",
   "execution_count": 8,
   "metadata": {},
   "outputs": [
    {
     "data": {
      "text/html": [
       "<div>\n",
       "<style scoped>\n",
       "    .dataframe tbody tr th:only-of-type {\n",
       "        vertical-align: middle;\n",
       "    }\n",
       "\n",
       "    .dataframe tbody tr th {\n",
       "        vertical-align: top;\n",
       "    }\n",
       "\n",
       "    .dataframe thead th {\n",
       "        text-align: right;\n",
       "    }\n",
       "</style>\n",
       "<table border=\"1\" class=\"dataframe\">\n",
       "  <thead>\n",
       "    <tr style=\"text-align: right;\">\n",
       "      <th></th>\n",
       "      <th>resume_id</th>\n",
       "      <th>vacancy_id</th>\n",
       "      <th>birth_date</th>\n",
       "      <th>resume_salary_from</th>\n",
       "      <th>resume_city_id</th>\n",
       "      <th>resume_city_search_job</th>\n",
       "      <th>resume_is_leaving</th>\n",
       "      <th>resume_offer_education_id</th>\n",
       "      <th>resume_is_foreign_language</th>\n",
       "      <th>resume_is_upload_photo</th>\n",
       "      <th>percentage_of_resume_completion</th>\n",
       "      <th>resume_offer_experience_year_count</th>\n",
       "      <th>resume_region_id</th>\n",
       "      <th>vacancy_operating_schedule_id</th>\n",
       "      <th>vacancy_salary_from</th>\n",
       "      <th>vacancy_salary_to</th>\n",
       "      <th>vacancy_offer_education_id</th>\n",
       "      <th>vacancy_offer_experience_year_count</th>\n",
       "      <th>vacany_company_id</th>\n",
       "      <th>vacancy_is_agency</th>\n",
       "      <th>vacancy_city_id</th>\n",
       "      <th>vacancy_offer_experience_year_id</th>\n",
       "      <th>target_task_1</th>\n",
       "      <th>target_task_2</th>\n",
       "      <th>resume_position_clear_stem</th>\n",
       "      <th>vacancy_custom_position_clear_stem</th>\n",
       "      <th>vacancy_description_clear_stem</th>\n",
       "      <th>resume_city_id_=_vacancy_city_id</th>\n",
       "      <th>resume_offer_education_id_=_vacancy_offer_education_id</th>\n",
       "      <th>resume_salary_from_=_vacancy_salary_from</th>\n",
       "      <th>resume_salary_from_&gt;_vacancy_salary_from</th>\n",
       "      <th>resume_salary_from_=_vacancy_salary_to</th>\n",
       "      <th>resume_salary_from_&gt;_vacancy_salary_to</th>\n",
       "      <th>resume_offer_experience_year_count_=_vacancy_offer_experience_year_count</th>\n",
       "      <th>resume_offer_experience_year_count_&gt;_vacancy_offer_experience_year_count</th>\n",
       "      <th>resume_position_clear_stem_in_vacancy_custom_position_clear_stem</th>\n",
       "      <th>vacancy_custom_position_clear_stem_in_resume_position_clear_stem</th>\n",
       "      <th>resume_position_clear_stem_in_vacancy_description_clear_stem</th>\n",
       "      <th>dist_resume_position_vacancy_custom_position</th>\n",
       "      <th>dist_resume_position_vacancy_description</th>\n",
       "      <th>resume_position_len</th>\n",
       "      <th>vacancy_custom_position_len</th>\n",
       "      <th>vacancy_description_len</th>\n",
       "      <th>resume_salary_from_log</th>\n",
       "      <th>vacancy_salary_from_log</th>\n",
       "      <th>vacancy_salary_to_log</th>\n",
       "      <th>conv_res_features</th>\n",
       "      <th>conv_new_fetures</th>\n",
       "    </tr>\n",
       "  </thead>\n",
       "  <tbody>\n",
       "    <tr>\n",
       "      <th>0</th>\n",
       "      <td>28826595</td>\n",
       "      <td>43881267</td>\n",
       "      <td>1996.0</td>\n",
       "      <td>20000.0</td>\n",
       "      <td>1</td>\n",
       "      <td>False</td>\n",
       "      <td>False</td>\n",
       "      <td>4</td>\n",
       "      <td>False</td>\n",
       "      <td>False</td>\n",
       "      <td>81.0</td>\n",
       "      <td>0.0</td>\n",
       "      <td>3</td>\n",
       "      <td>1</td>\n",
       "      <td>30000</td>\n",
       "      <td>40000.0</td>\n",
       "      <td>4</td>\n",
       "      <td>-1.0</td>\n",
       "      <td>927123</td>\n",
       "      <td>False</td>\n",
       "      <td>1</td>\n",
       "      <td>0</td>\n",
       "      <td>0</td>\n",
       "      <td>1</td>\n",
       "      <td>корректор</td>\n",
       "      <td>менеджер переводчик</td>\n",
       "      <td>требован высш лингвистическ филологическ педаг...</td>\n",
       "      <td>1</td>\n",
       "      <td>1</td>\n",
       "      <td>0</td>\n",
       "      <td>0</td>\n",
       "      <td>0</td>\n",
       "      <td>0</td>\n",
       "      <td>0</td>\n",
       "      <td>1</td>\n",
       "      <td>0</td>\n",
       "      <td>0</td>\n",
       "      <td>0</td>\n",
       "      <td>0.859948</td>\n",
       "      <td>0.838203</td>\n",
       "      <td>1</td>\n",
       "      <td>2</td>\n",
       "      <td>89</td>\n",
       "      <td>9.903488</td>\n",
       "      <td>10.308953</td>\n",
       "      <td>10.596635</td>\n",
       "      <td>0</td>\n",
       "      <td>3</td>\n",
       "    </tr>\n",
       "    <tr>\n",
       "      <th>1</th>\n",
       "      <td>25778536</td>\n",
       "      <td>43454765</td>\n",
       "      <td>1970.0</td>\n",
       "      <td>-1.0</td>\n",
       "      <td>1</td>\n",
       "      <td>False</td>\n",
       "      <td>True</td>\n",
       "      <td>4</td>\n",
       "      <td>False</td>\n",
       "      <td>True</td>\n",
       "      <td>87.0</td>\n",
       "      <td>5.0</td>\n",
       "      <td>3</td>\n",
       "      <td>1</td>\n",
       "      <td>40000</td>\n",
       "      <td>-1.0</td>\n",
       "      <td>0</td>\n",
       "      <td>0.0</td>\n",
       "      <td>1141124</td>\n",
       "      <td>False</td>\n",
       "      <td>1</td>\n",
       "      <td>-1</td>\n",
       "      <td>0</td>\n",
       "      <td>1</td>\n",
       "      <td>шеф повар</td>\n",
       "      <td>шеф повар</td>\n",
       "      <td>торгов сет перекресток переход лучш наш сет ма...</td>\n",
       "      <td>1</td>\n",
       "      <td>0</td>\n",
       "      <td>0</td>\n",
       "      <td>0</td>\n",
       "      <td>1</td>\n",
       "      <td>0</td>\n",
       "      <td>0</td>\n",
       "      <td>1</td>\n",
       "      <td>1</td>\n",
       "      <td>1</td>\n",
       "      <td>0</td>\n",
       "      <td>0.000000</td>\n",
       "      <td>0.784030</td>\n",
       "      <td>2</td>\n",
       "      <td>2</td>\n",
       "      <td>175</td>\n",
       "      <td>10.664717</td>\n",
       "      <td>10.596635</td>\n",
       "      <td>10.964648</td>\n",
       "      <td>2</td>\n",
       "      <td>5</td>\n",
       "    </tr>\n",
       "    <tr>\n",
       "      <th>2</th>\n",
       "      <td>28782671</td>\n",
       "      <td>43833295</td>\n",
       "      <td>1984.0</td>\n",
       "      <td>35000.0</td>\n",
       "      <td>1</td>\n",
       "      <td>False</td>\n",
       "      <td>True</td>\n",
       "      <td>4</td>\n",
       "      <td>False</td>\n",
       "      <td>True</td>\n",
       "      <td>88.0</td>\n",
       "      <td>-1.0</td>\n",
       "      <td>156</td>\n",
       "      <td>6</td>\n",
       "      <td>-1</td>\n",
       "      <td>-1.0</td>\n",
       "      <td>0</td>\n",
       "      <td>1.0</td>\n",
       "      <td>1765004</td>\n",
       "      <td>False</td>\n",
       "      <td>57</td>\n",
       "      <td>-1</td>\n",
       "      <td>0</td>\n",
       "      <td>1</td>\n",
       "      <td>дизайнер</td>\n",
       "      <td>дизайнер интерьер</td>\n",
       "      <td>обязан нужн передела офис м жил апартамент сда...</td>\n",
       "      <td>0</td>\n",
       "      <td>0</td>\n",
       "      <td>0</td>\n",
       "      <td>1</td>\n",
       "      <td>0</td>\n",
       "      <td>1</td>\n",
       "      <td>0</td>\n",
       "      <td>0</td>\n",
       "      <td>1</td>\n",
       "      <td>0</td>\n",
       "      <td>0</td>\n",
       "      <td>0.460166</td>\n",
       "      <td>0.813258</td>\n",
       "      <td>1</td>\n",
       "      <td>2</td>\n",
       "      <td>37</td>\n",
       "      <td>10.463103</td>\n",
       "      <td>10.657061</td>\n",
       "      <td>10.964648</td>\n",
       "      <td>2</td>\n",
       "      <td>3</td>\n",
       "    </tr>\n",
       "    <tr>\n",
       "      <th>3</th>\n",
       "      <td>23624154</td>\n",
       "      <td>42093862</td>\n",
       "      <td>2003.0</td>\n",
       "      <td>45000.0</td>\n",
       "      <td>57</td>\n",
       "      <td>False</td>\n",
       "      <td>False</td>\n",
       "      <td>4</td>\n",
       "      <td>False</td>\n",
       "      <td>True</td>\n",
       "      <td>85.0</td>\n",
       "      <td>-1.0</td>\n",
       "      <td>209</td>\n",
       "      <td>1</td>\n",
       "      <td>-1</td>\n",
       "      <td>-1.0</td>\n",
       "      <td>0</td>\n",
       "      <td>-1.0</td>\n",
       "      <td>1739407</td>\n",
       "      <td>False</td>\n",
       "      <td>1</td>\n",
       "      <td>-1</td>\n",
       "      <td>0</td>\n",
       "      <td>1</td>\n",
       "      <td>помощник юрист младш юрист</td>\n",
       "      <td>администратор выходн дня</td>\n",
       "      <td>обязан связ пациент при звонк зап при подтверж...</td>\n",
       "      <td>0</td>\n",
       "      <td>0</td>\n",
       "      <td>0</td>\n",
       "      <td>1</td>\n",
       "      <td>0</td>\n",
       "      <td>1</td>\n",
       "      <td>1</td>\n",
       "      <td>0</td>\n",
       "      <td>0</td>\n",
       "      <td>0</td>\n",
       "      <td>0</td>\n",
       "      <td>0.837509</td>\n",
       "      <td>0.717521</td>\n",
       "      <td>4</td>\n",
       "      <td>3</td>\n",
       "      <td>61</td>\n",
       "      <td>10.714418</td>\n",
       "      <td>10.657061</td>\n",
       "      <td>10.964648</td>\n",
       "      <td>1</td>\n",
       "      <td>3</td>\n",
       "    </tr>\n",
       "    <tr>\n",
       "      <th>4</th>\n",
       "      <td>26474618</td>\n",
       "      <td>43740592</td>\n",
       "      <td>1998.0</td>\n",
       "      <td>21000.0</td>\n",
       "      <td>2</td>\n",
       "      <td>False</td>\n",
       "      <td>False</td>\n",
       "      <td>-1</td>\n",
       "      <td>False</td>\n",
       "      <td>False</td>\n",
       "      <td>77.0</td>\n",
       "      <td>-1.0</td>\n",
       "      <td>4</td>\n",
       "      <td>2</td>\n",
       "      <td>28000</td>\n",
       "      <td>35000.0</td>\n",
       "      <td>0</td>\n",
       "      <td>-1.0</td>\n",
       "      <td>714925</td>\n",
       "      <td>False</td>\n",
       "      <td>2</td>\n",
       "      <td>-1</td>\n",
       "      <td>0</td>\n",
       "      <td>1</td>\n",
       "      <td>грузчик</td>\n",
       "      <td>грузчик магазин детск товар ночн смен</td>\n",
       "      <td>друз открыт ваканс разнорабоч грузчик смен обя...</td>\n",
       "      <td>1</td>\n",
       "      <td>0</td>\n",
       "      <td>0</td>\n",
       "      <td>0</td>\n",
       "      <td>0</td>\n",
       "      <td>0</td>\n",
       "      <td>1</td>\n",
       "      <td>0</td>\n",
       "      <td>1</td>\n",
       "      <td>0</td>\n",
       "      <td>1</td>\n",
       "      <td>0.661000</td>\n",
       "      <td>0.772663</td>\n",
       "      <td>1</td>\n",
       "      <td>6</td>\n",
       "      <td>69</td>\n",
       "      <td>9.952278</td>\n",
       "      <td>10.239960</td>\n",
       "      <td>10.463103</td>\n",
       "      <td>0</td>\n",
       "      <td>4</td>\n",
       "    </tr>\n",
       "  </tbody>\n",
       "</table>\n",
       "</div>"
      ],
      "text/plain": [
       "   resume_id  vacancy_id  birth_date  resume_salary_from  resume_city_id  \\\n",
       "0   28826595    43881267      1996.0             20000.0               1   \n",
       "1   25778536    43454765      1970.0                -1.0               1   \n",
       "2   28782671    43833295      1984.0             35000.0               1   \n",
       "3   23624154    42093862      2003.0             45000.0              57   \n",
       "4   26474618    43740592      1998.0             21000.0               2   \n",
       "\n",
       "   resume_city_search_job  resume_is_leaving  resume_offer_education_id  \\\n",
       "0                   False              False                          4   \n",
       "1                   False               True                          4   \n",
       "2                   False               True                          4   \n",
       "3                   False              False                          4   \n",
       "4                   False              False                         -1   \n",
       "\n",
       "   resume_is_foreign_language  resume_is_upload_photo  \\\n",
       "0                       False                   False   \n",
       "1                       False                    True   \n",
       "2                       False                    True   \n",
       "3                       False                    True   \n",
       "4                       False                   False   \n",
       "\n",
       "   percentage_of_resume_completion  resume_offer_experience_year_count  \\\n",
       "0                             81.0                                 0.0   \n",
       "1                             87.0                                 5.0   \n",
       "2                             88.0                                -1.0   \n",
       "3                             85.0                                -1.0   \n",
       "4                             77.0                                -1.0   \n",
       "\n",
       "   resume_region_id  vacancy_operating_schedule_id  vacancy_salary_from  \\\n",
       "0                 3                              1                30000   \n",
       "1                 3                              1                40000   \n",
       "2               156                              6                   -1   \n",
       "3               209                              1                   -1   \n",
       "4                 4                              2                28000   \n",
       "\n",
       "   vacancy_salary_to  vacancy_offer_education_id  \\\n",
       "0            40000.0                           4   \n",
       "1               -1.0                           0   \n",
       "2               -1.0                           0   \n",
       "3               -1.0                           0   \n",
       "4            35000.0                           0   \n",
       "\n",
       "   vacancy_offer_experience_year_count  vacany_company_id  vacancy_is_agency  \\\n",
       "0                                 -1.0             927123              False   \n",
       "1                                  0.0            1141124              False   \n",
       "2                                  1.0            1765004              False   \n",
       "3                                 -1.0            1739407              False   \n",
       "4                                 -1.0             714925              False   \n",
       "\n",
       "   vacancy_city_id  vacancy_offer_experience_year_id  target_task_1  \\\n",
       "0                1                                 0              0   \n",
       "1                1                                -1              0   \n",
       "2               57                                -1              0   \n",
       "3                1                                -1              0   \n",
       "4                2                                -1              0   \n",
       "\n",
       "   target_task_2  resume_position_clear_stem  \\\n",
       "0              1                   корректор   \n",
       "1              1                   шеф повар   \n",
       "2              1                    дизайнер   \n",
       "3              1  помощник юрист младш юрист   \n",
       "4              1                     грузчик   \n",
       "\n",
       "      vacancy_custom_position_clear_stem  \\\n",
       "0                    менеджер переводчик   \n",
       "1                              шеф повар   \n",
       "2                      дизайнер интерьер   \n",
       "3               администратор выходн дня   \n",
       "4  грузчик магазин детск товар ночн смен   \n",
       "\n",
       "                      vacancy_description_clear_stem  \\\n",
       "0  требован высш лингвистическ филологическ педаг...   \n",
       "1  торгов сет перекресток переход лучш наш сет ма...   \n",
       "2  обязан нужн передела офис м жил апартамент сда...   \n",
       "3  обязан связ пациент при звонк зап при подтверж...   \n",
       "4  друз открыт ваканс разнорабоч грузчик смен обя...   \n",
       "\n",
       "   resume_city_id_=_vacancy_city_id  \\\n",
       "0                                 1   \n",
       "1                                 1   \n",
       "2                                 0   \n",
       "3                                 0   \n",
       "4                                 1   \n",
       "\n",
       "   resume_offer_education_id_=_vacancy_offer_education_id  \\\n",
       "0                                                  1        \n",
       "1                                                  0        \n",
       "2                                                  0        \n",
       "3                                                  0        \n",
       "4                                                  0        \n",
       "\n",
       "   resume_salary_from_=_vacancy_salary_from  \\\n",
       "0                                         0   \n",
       "1                                         0   \n",
       "2                                         0   \n",
       "3                                         0   \n",
       "4                                         0   \n",
       "\n",
       "   resume_salary_from_>_vacancy_salary_from  \\\n",
       "0                                         0   \n",
       "1                                         0   \n",
       "2                                         1   \n",
       "3                                         1   \n",
       "4                                         0   \n",
       "\n",
       "   resume_salary_from_=_vacancy_salary_to  \\\n",
       "0                                       0   \n",
       "1                                       1   \n",
       "2                                       0   \n",
       "3                                       0   \n",
       "4                                       0   \n",
       "\n",
       "   resume_salary_from_>_vacancy_salary_to  \\\n",
       "0                                       0   \n",
       "1                                       0   \n",
       "2                                       1   \n",
       "3                                       1   \n",
       "4                                       0   \n",
       "\n",
       "   resume_offer_experience_year_count_=_vacancy_offer_experience_year_count  \\\n",
       "0                                                  0                          \n",
       "1                                                  0                          \n",
       "2                                                  0                          \n",
       "3                                                  1                          \n",
       "4                                                  1                          \n",
       "\n",
       "   resume_offer_experience_year_count_>_vacancy_offer_experience_year_count  \\\n",
       "0                                                  1                          \n",
       "1                                                  1                          \n",
       "2                                                  0                          \n",
       "3                                                  0                          \n",
       "4                                                  0                          \n",
       "\n",
       "   resume_position_clear_stem_in_vacancy_custom_position_clear_stem  \\\n",
       "0                                                  0                  \n",
       "1                                                  1                  \n",
       "2                                                  1                  \n",
       "3                                                  0                  \n",
       "4                                                  1                  \n",
       "\n",
       "   vacancy_custom_position_clear_stem_in_resume_position_clear_stem  \\\n",
       "0                                                  0                  \n",
       "1                                                  1                  \n",
       "2                                                  0                  \n",
       "3                                                  0                  \n",
       "4                                                  0                  \n",
       "\n",
       "   resume_position_clear_stem_in_vacancy_description_clear_stem  \\\n",
       "0                                                  0              \n",
       "1                                                  0              \n",
       "2                                                  0              \n",
       "3                                                  0              \n",
       "4                                                  1              \n",
       "\n",
       "   dist_resume_position_vacancy_custom_position  \\\n",
       "0                                      0.859948   \n",
       "1                                      0.000000   \n",
       "2                                      0.460166   \n",
       "3                                      0.837509   \n",
       "4                                      0.661000   \n",
       "\n",
       "   dist_resume_position_vacancy_description  resume_position_len  \\\n",
       "0                                  0.838203                    1   \n",
       "1                                  0.784030                    2   \n",
       "2                                  0.813258                    1   \n",
       "3                                  0.717521                    4   \n",
       "4                                  0.772663                    1   \n",
       "\n",
       "   vacancy_custom_position_len  vacancy_description_len  \\\n",
       "0                            2                       89   \n",
       "1                            2                      175   \n",
       "2                            2                       37   \n",
       "3                            3                       61   \n",
       "4                            6                       69   \n",
       "\n",
       "   resume_salary_from_log  vacancy_salary_from_log  vacancy_salary_to_log  \\\n",
       "0                9.903488                10.308953              10.596635   \n",
       "1               10.664717                10.596635              10.964648   \n",
       "2               10.463103                10.657061              10.964648   \n",
       "3               10.714418                10.657061              10.964648   \n",
       "4                9.952278                10.239960              10.463103   \n",
       "\n",
       "   conv_res_features  conv_new_fetures  \n",
       "0                  0                 3  \n",
       "1                  2                 5  \n",
       "2                  2                 3  \n",
       "3                  1                 3  \n",
       "4                  0                 4  "
      ]
     },
     "execution_count": 8,
     "metadata": {},
     "output_type": "execute_result"
    }
   ],
   "source": [
    "df.head()"
   ]
  },
  {
   "cell_type": "markdown",
   "metadata": {
    "id": "oXZHEoo5sRyO"
   },
   "source": [
    "# Моделирование"
   ]
  },
  {
   "cell_type": "markdown",
   "metadata": {
    "id": "CAMrkypL15kU"
   },
   "source": [
    "Согласно результатам EDA наиболее подходящий инструмент для решения поставленных задач является нейронная сеть.\n",
    "Однако в связи с недостаточным количеством временных и машинных ресурсов указанный подход нецелесообразен.\n",
    "По этой причине будем использовать модель градиентного бустинга Catboost, которая имеет встроенную систему обработки текстов.\n",
    "\n",
    "В качестве метрики будем использовать PR AUC (average prescision), которая наиболее адекватно показывает качество предсказаний моделей бинарной классификации, так как не имеет в своем расчете каких-либо порогов.\n",
    "Учитывая, что случайная модель имеет значение PR AUC, равное 0,5, будем использовать его в качестве baseline.\n",
    "\n",
    "Анализ матриц корреляции phik показал, что между целевыми признаками коэффициент корреляции составляет 20%.\n",
    "В то же время с другими признаками корреляция не превосходит единиц процентов. \n",
    "Учитывая, что корреляции целевого признака первой задачи с остальными в разы меньше аналогичной для второй задачи, представляется целесообразным инвертировать задачу и сначала решить вторую задачу, а ее целевой признак использовать в качестве входного для второй задачи.  \n",
    "\n",
    "Пайплайн моделирования следующий.\n",
    "1. Разделить датасет на 2 подвыборки: \n",
    "    - обучающая для задач №1 и №2 (90%);\n",
    "    - тестовая (10%).  \n",
    "Вместо валидационной выборки будем используем использовать кросс-валидацию.\n",
    "1. Провести моделирование задачи №2 на ненастроенной модели Catboost.\n",
    "Использовать полученное значение PR AUC в качестве опорного.\n",
    "1. Провести оптимизацию гиперпараметров модели при помощи библиотеки Optuna. \n",
    "1. Обучить модель с полученными значениями гиперпараметров на полных подвыборках без кроссвалидации и провести анализ важности признаков при помощи сервисов библиотеки Shap и встроенных методов Catboost.\n",
    "1. Уменьшить зашумленность данных за счет уменьшения количества признаков.\n",
    "Контролировать значение PR AUC, недопуская его снижения.\n",
    "1. Оптимизировать гиперпараметры обработки текстовых признаков.\n",
    "1. Повторить операции для задачи №2.\n",
    "1. Проверить качество разработанных моделей на тестовой выборке."
   ]
  },
  {
   "cell_type": "markdown",
   "metadata": {
    "tags": []
   },
   "source": [
    "## Подготовка данных "
   ]
  },
  {
   "cell_type": "code",
   "execution_count": 9,
   "metadata": {
    "id": "oQz5FEnIDpyN"
   },
   "outputs": [],
   "source": [
    "# Константа случайности\n",
    "SEED = 26\n",
    "\n",
    "# Целевые признаки\n",
    "y_1 = [\"target_task_1\"]\n",
    "y_2 = [\"target_task_2\"]\n",
    "\n",
    "# Вектор состояния; id вносят утечку данных\n",
    "X = df.drop(\n",
    "    [\n",
    "        \"resume_id\",\n",
    "        \"vacancy_id\",\n",
    "    ]\n",
    "    + y_2\n",
    "    + y_1,\n",
    "    axis=1,\n",
    ").columns.tolist()\n",
    "\n",
    "# Категориальные признаки\n",
    "cat_features = [\n",
    "    \"resume_is_leaving\",\n",
    "    \"resume_offer_education_id\",\n",
    "    \"resume_is_foreign_language\",\n",
    "    \"resume_is_upload_photo\",\n",
    "    \"vacancy_operating_schedule_id\",\n",
    "    \"vacancy_offer_education_id\",\n",
    "    \"vacancy_is_agency\",\n",
    "    \"vacancy_offer_experience_year_id\",\n",
    "    \"resume_city_id_=_vacancy_city_id\",\n",
    "    \"resume_offer_education_id_=_vacancy_offer_education_id\",\n",
    "    \"resume_salary_from_=_vacancy_salary_from\",\n",
    "    \"resume_salary_from_>_vacancy_salary_from\",\n",
    "    \"resume_salary_from_=_vacancy_salary_to\",\n",
    "    \"resume_salary_from_>_vacancy_salary_to\",\n",
    "    \"resume_offer_experience_year_count_=_vacancy_offer_experience_year_count\",\n",
    "    \"resume_offer_experience_year_count_>_vacancy_offer_experience_year_count\",\n",
    "    \"resume_position_clear_stem_in_vacancy_custom_position_clear_stem\",\n",
    "    \"vacancy_custom_position_clear_stem_in_resume_position_clear_stem\",\n",
    "    \"resume_position_clear_stem_in_vacancy_description_clear_stem\",\n",
    "]\n",
    "\n",
    "# Текстовые признаки\n",
    "text_features = [\n",
    "    \"resume_position_clear_stem\",\n",
    "    \"vacancy_custom_position_clear_stem\",\n",
    "    \"vacancy_description_clear_stem\",\n",
    "]\n",
    "\n",
    "# Разделение датасета\n",
    "train, test = train_test_split(df, stratify=df[y_2], test_size=0.1, random_state=SEED)\n",
    "\n",
    "# Объявление пула второй задачи\n",
    "train_pool_t2 = Pool(\n",
    "    data=train[X],\n",
    "    label=train[y_2],\n",
    "    text_features=text_features,\n",
    "    cat_features=cat_features,\n",
    ")"
   ]
  },
  {
   "cell_type": "markdown",
   "metadata": {
    "id": "Rup3jdqIBp_o",
    "tags": []
   },
   "source": [
    "## Задача №2"
   ]
  },
  {
   "cell_type": "code",
   "execution_count": 10,
   "metadata": {},
   "outputs": [],
   "source": [
    "# Стратифицированная кроссвалидация\n",
    "skf = StratifiedKFold(n_splits=5, shuffle=True, random_state=SEED)\n",
    "\n",
    "# Объявление ненастроенной модели\n",
    "params_init = {\n",
    "    \"eval_metric\": \"Logloss\",\n",
    "    \"loss_function\": \"Logloss\",\n",
    "    \"random_seed\": SEED,\n",
    "    \"early_stopping_rounds\": 200,\n",
    "    \"task_type\": \"GPU\",\n",
    "    \"auto_class_weights\": \"Balanced\",\n",
    "}\n",
    "\n",
    "fit_params = {\"cat_features\": cat_features, \"text_features\": text_features}\n",
    "\n",
    "cbc_init = CatBoostClassifier(\n",
    "    **params_init,\n",
    "    verbose=250,\n",
    "    learning_rate=0.5,\n",
    ")"
   ]
  },
  {
   "cell_type": "code",
   "execution_count": 11,
   "metadata": {},
   "outputs": [
    {
     "name": "stdout",
     "output_type": "stream",
     "text": [
      "0:\tlearn: 0.6205170\ttotal: 38ms\tremaining: 38s\n",
      "250:\tlearn: 0.4444751\ttotal: 6.94s\tremaining: 20.7s\n",
      "500:\tlearn: 0.3936867\ttotal: 13.7s\tremaining: 13.6s\n",
      "750:\tlearn: 0.3558055\ttotal: 21.2s\tremaining: 7.03s\n",
      "999:\tlearn: 0.3250035\ttotal: 28.8s\tremaining: 0us\n",
      "0:\tlearn: 0.6221625\ttotal: 39.7ms\tremaining: 39.6s\n",
      "250:\tlearn: 0.4450389\ttotal: 7.97s\tremaining: 23.8s\n",
      "500:\tlearn: 0.3936486\ttotal: 15.2s\tremaining: 15.1s\n",
      "750:\tlearn: 0.3554059\ttotal: 21.9s\tremaining: 7.26s\n",
      "999:\tlearn: 0.3231606\ttotal: 28.6s\tremaining: 0us\n",
      "0:\tlearn: 0.6207434\ttotal: 37.5ms\tremaining: 37.4s\n",
      "250:\tlearn: 0.4423871\ttotal: 7.06s\tremaining: 21.1s\n",
      "500:\tlearn: 0.3917231\ttotal: 13.8s\tremaining: 13.7s\n",
      "750:\tlearn: 0.3544200\ttotal: 20.5s\tremaining: 6.8s\n",
      "999:\tlearn: 0.3233580\ttotal: 27.2s\tremaining: 0us\n",
      "0:\tlearn: 0.6211530\ttotal: 35.7ms\tremaining: 35.7s\n",
      "250:\tlearn: 0.4432775\ttotal: 7.01s\tremaining: 20.9s\n",
      "500:\tlearn: 0.3932890\ttotal: 13.7s\tremaining: 13.6s\n",
      "750:\tlearn: 0.3552964\ttotal: 20.3s\tremaining: 6.73s\n",
      "999:\tlearn: 0.3241620\ttotal: 27s\tremaining: 0us\n",
      "0:\tlearn: 0.6202367\ttotal: 32.6ms\tremaining: 32.5s\n",
      "250:\tlearn: 0.4419707\ttotal: 6.97s\tremaining: 20.8s\n",
      "500:\tlearn: 0.3895236\ttotal: 13.7s\tremaining: 13.6s\n",
      "750:\tlearn: 0.3528645\ttotal: 20.4s\tremaining: 6.76s\n",
      "999:\tlearn: 0.3224256\ttotal: 27.1s\tremaining: 0us\n"
     ]
    },
    {
     "data": {
      "text/plain": [
       "0.9647441862741546"
      ]
     },
     "execution_count": 11,
     "metadata": {},
     "output_type": "execute_result"
    }
   ],
   "source": [
    "# Обучение ненастроенной модели\n",
    "cross_val_score(\n",
    "    cbc_init,\n",
    "    train[X],\n",
    "    train[y_2],\n",
    "    scoring=\"average_precision\",\n",
    "    cv=skf,\n",
    "    fit_params=fit_params,\n",
    ").mean()"
   ]
  },
  {
   "cell_type": "markdown",
   "metadata": {},
   "source": [
    "Получена метрика 96,5%, что близко к идеалу!"
   ]
  },
  {
   "cell_type": "markdown",
   "metadata": {},
   "source": [
    "### Optuna"
   ]
  },
  {
   "cell_type": "code",
   "execution_count": 12,
   "metadata": {
    "colab": {
     "base_uri": "https://localhost:8080/",
     "height": 208,
     "referenced_widgets": [
      "ccb81af0b6d1441980caa698ec18854e",
      "a0b41874d66e4926b41a3fe9d888a35b",
      "06de375508c94ab3a64894b242704a48",
      "13cea03e3a274592b7ba2285e2aaf4e7",
      "bdea242f6dd94ebdb9251151ddd05647",
      "592922b269e548f6986838ac787dfc54",
      "03067073609d43b68dd5a605fa3a5eda",
      "541baca4da00435298717dd44bcea506",
      "c3b62d79d015478a9e2e537671bdf8e2",
      "935489ca1503441a8bf847eebefec8ca",
      "063ea4e0b5d64daeae6c50cd200ad47b"
     ]
    },
    "id": "gWj5S-E7iCk7",
    "outputId": "580092c6-6516-4a40-f52e-30e2769e56b8"
   },
   "outputs": [],
   "source": [
    "def optuna_cbc(X, y, params_init, first_iteration, fit_params):\n",
    "    \"\"\"\n",
    "    Функция получает вектор состояния, целевой признак,\n",
    "    начальные параметры моделирования, начальную точку оптимизации\n",
    "    и настройку кроссвалидации.\n",
    "    Внутри объявляется функция оптимизации Optun'ы и сам расчет на 10 итераций.\n",
    "    \"\"\"\n",
    "\n",
    "    def objective_cbc(trial):\n",
    "\n",
    "        params_optuna = {\n",
    "            **params_init,\n",
    "            \"learning_rate\": trial.suggest_float(\"learning_rate\", 0.001, 0.9),\n",
    "            \"min_data_in_leaf\": trial.suggest_int(\"min_data_in_leaf\", 1, 10),\n",
    "            \"depth\": trial.suggest_int(\"depth\", 1, 12),\n",
    "            \"boosting_type\": trial.suggest_categorical(\n",
    "                \"boosting_type\", [\"Ordered\", \"Plain\"]\n",
    "            ),\n",
    "            \"bootstrap_type\": trial.suggest_categorical(\n",
    "                \"bootstrap_type\", [\"Bayesian\", \"Bernoulli\", \"MVS\"]\n",
    "            ),\n",
    "        }\n",
    "\n",
    "        cbc_optuna = CatBoostClassifier(**params_optuna, verbose=False)\n",
    "\n",
    "        return cross_val_score(\n",
    "            cbc_optuna,\n",
    "            train[X],\n",
    "            train[y],\n",
    "            scoring=\"average_precision\",\n",
    "            cv=skf,\n",
    "            fit_params=fit_params,\n",
    "        ).mean()\n",
    "\n",
    "    study_cbc = optuna.create_study(\n",
    "        direction=\"maximize\", sampler=optuna.samplers.TPESampler(seed=SEED)\n",
    "    )\n",
    "\n",
    "    study_cbc.enqueue_trial({**first_iteration})\n",
    "\n",
    "    study_cbc.optimize(objective_cbc, n_trials=10, show_progress_bar=True)\n",
    "\n",
    "    return study_cbc"
   ]
  },
  {
   "cell_type": "markdown",
   "metadata": {},
   "source": [
    "Начальная точка оптимизации"
   ]
  },
  {
   "cell_type": "code",
   "execution_count": 13,
   "metadata": {
    "tags": []
   },
   "outputs": [],
   "source": [
    "first_iteration = {\n",
    "    \"learning_rate\": 0.5,\n",
    "    \"min_data_in_leaf\": 1,\n",
    "    \"depth\": 6,\n",
    "    \"boosting_type\": \"Plain\",\n",
    "    \"bootstrap_type\": \"Bayesian\",\n",
    "    \"bagging_temperature\": 1,\n",
    "}"
   ]
  },
  {
   "cell_type": "markdown",
   "metadata": {},
   "source": [
    "Запуск оптимизации"
   ]
  },
  {
   "cell_type": "code",
   "execution_count": 14,
   "metadata": {},
   "outputs": [
    {
     "name": "stderr",
     "output_type": "stream",
     "text": [
      "\u001b[32m[I 2023-02-14 00:40:52,891]\u001b[0m A new study created in memory with name: no-name-62877f97-3460-405f-a977-dfa2cbb902ce\u001b[0m\n",
      "Progress bar is experimental (supported from v1.2.0). The interface can change in the future.\n"
     ]
    },
    {
     "data": {
      "application/vnd.jupyter.widget-view+json": {
       "model_id": "13cc010cc2004907b141d068b5aea21d",
       "version_major": 2,
       "version_minor": 0
      },
      "text/plain": [
       "  0%|          | 0/10 [00:00<?, ?it/s]"
      ]
     },
     "metadata": {},
     "output_type": "display_data"
    },
    {
     "name": "stdout",
     "output_type": "stream",
     "text": [
      "\u001b[32m[I 2023-02-14 00:44:04,340]\u001b[0m Trial 0 finished with value: 0.9646488749837371 and parameters: {'learning_rate': 0.5, 'min_data_in_leaf': 1, 'depth': 6, 'boosting_type': 'Plain', 'bootstrap_type': 'Bayesian'}. Best is trial 0 with value: 0.9646488749837371.\u001b[0m\n",
      "\u001b[32m[I 2023-02-14 00:51:31,364]\u001b[0m Trial 1 finished with value: 0.9595567765876798 and parameters: {'learning_rate': 0.27783352240984877, 'min_data_in_leaf': 6, 'depth': 10, 'boosting_type': 'Plain', 'bootstrap_type': 'MVS'}. Best is trial 0 with value: 0.9646488749837371.\u001b[0m\n",
      "\u001b[32m[I 2023-02-14 00:56:00,101]\u001b[0m Trial 2 finished with value: 0.9602380692015778 and parameters: {'learning_rate': 0.6654704506552259, 'min_data_in_leaf': 2, 'depth': 3, 'boosting_type': 'Ordered', 'bootstrap_type': 'Bayesian'}. Best is trial 0 with value: 0.9646488749837371.\u001b[0m\n",
      "\u001b[32m[I 2023-02-14 00:59:35,912]\u001b[0m Trial 3 finished with value: 0.9587316290545551 and parameters: {'learning_rate': 0.8662025549398842, 'min_data_in_leaf': 10, 'depth': 7, 'boosting_type': 'Plain', 'bootstrap_type': 'Bernoulli'}. Best is trial 0 with value: 0.9646488749837371.\u001b[0m\n",
      "\u001b[32m[I 2023-02-14 01:05:13,177]\u001b[0m Trial 4 finished with value: 0.952215586482 and parameters: {'learning_rate': 0.8778321312797801, 'min_data_in_leaf': 7, 'depth': 9, 'boosting_type': 'Plain', 'bootstrap_type': 'MVS'}. Best is trial 0 with value: 0.9646488749837371.\u001b[0m\n",
      "\u001b[32m[I 2023-02-14 01:10:20,014]\u001b[0m Trial 5 finished with value: 0.9609861912286387 and parameters: {'learning_rate': 0.7999684870210299, 'min_data_in_leaf': 7, 'depth': 4, 'boosting_type': 'Ordered', 'bootstrap_type': 'Bernoulli'}. Best is trial 0 with value: 0.9646488749837371.\u001b[0m\n",
      "\u001b[32m[I 2023-02-14 01:12:26,624]\u001b[0m Trial 6 finished with value: 0.9606344570993374 and parameters: {'learning_rate': 0.5048042274092479, 'min_data_in_leaf': 9, 'depth': 2, 'boosting_type': 'Plain', 'bootstrap_type': 'Bernoulli'}. Best is trial 0 with value: 0.9646488749837371.\u001b[0m\n",
      "\u001b[32m[I 2023-02-14 01:14:45,473]\u001b[0m Trial 7 finished with value: 0.9619244966443977 and parameters: {'learning_rate': 0.7953167362482753, 'min_data_in_leaf': 8, 'depth': 3, 'boosting_type': 'Plain', 'bootstrap_type': 'Bernoulli'}. Best is trial 0 with value: 0.9646488749837371.\u001b[0m\n",
      "\u001b[32m[I 2023-02-14 01:18:16,351]\u001b[0m Trial 8 finished with value: 0.9339070014632347 and parameters: {'learning_rate': 0.16876171368451057, 'min_data_in_leaf': 6, 'depth': 1, 'boosting_type': 'Ordered', 'bootstrap_type': 'MVS'}. Best is trial 0 with value: 0.9646488749837371.\u001b[0m\n",
      "\u001b[32m[I 2023-02-14 01:21:12,513]\u001b[0m Trial 9 finished with value: 0.9534558635164985 and parameters: {'learning_rate': 0.8567745533514091, 'min_data_in_leaf': 6, 'depth': 5, 'boosting_type': 'Plain', 'bootstrap_type': 'MVS'}. Best is trial 0 with value: 0.9646488749837371.\u001b[0m\n"
     ]
    }
   ],
   "source": [
    "study_cb_t2 = optuna_cbc(\n",
    "    X,\n",
    "    y_2,\n",
    "    params_init=params_init,\n",
    "    fit_params=fit_params,\n",
    "    first_iteration=first_iteration,\n",
    ")"
   ]
  },
  {
   "cell_type": "markdown",
   "metadata": {
    "id": "lvSNDAiyDulc"
   },
   "source": [
    "Optuna не смогла подобрать лучшие параметры, чем взяты \"поумолчанию\"."
   ]
  },
  {
   "cell_type": "markdown",
   "metadata": {},
   "source": [
    "### Shap"
   ]
  },
  {
   "cell_type": "markdown",
   "metadata": {},
   "source": [
    "Объявим переменную с лучшими результатами оптимизации или ее результатами, чтобы не ждать повторного проведения"
   ]
  },
  {
   "cell_type": "code",
   "execution_count": 15,
   "metadata": {},
   "outputs": [],
   "source": [
    "try:\n",
    "    study_cb_t2_best_params = study_cb_t2.best_params\n",
    "except:\n",
    "    study_cb_t2_best_params = first_iteration"
   ]
  },
  {
   "cell_type": "markdown",
   "metadata": {},
   "source": [
    "Обучение модели на всем датасете и лучших гиперпараметрах"
   ]
  },
  {
   "cell_type": "code",
   "execution_count": 16,
   "metadata": {},
   "outputs": [
    {
     "data": {
      "text/plain": [
       "<catboost.core.CatBoostClassifier at 0x7f910d4a8eb0>"
      ]
     },
     "execution_count": 16,
     "metadata": {},
     "output_type": "execute_result"
    }
   ],
   "source": [
    "params_cb_t2 = {\n",
    "    **params_init,\n",
    "    **study_cb_t2_best_params,\n",
    "}\n",
    "\n",
    "cbc_t2 = CatBoostClassifier(**params_cb_t2, verbose=False)\n",
    "\n",
    "cbc_t2.fit(train_pool_t2)"
   ]
  },
  {
   "cell_type": "code",
   "execution_count": 17,
   "metadata": {
    "colab": {
     "base_uri": "https://localhost:8080/",
     "height": 585
    },
    "id": "sqxsptOS6ZFo",
    "outputId": "72d23d6f-ff97-4bd4-a6e7-a19e6bd3928f"
   },
   "outputs": [],
   "source": [
    "def shap_plot(model, train_pool, X, plot_size=(15, 8)):\n",
    "    \"\"\"\n",
    "    Функция принимает модель, пул на котором она была обучена,\n",
    "    вектор состояния и размер рисунка.\n",
    "    Строит Shap\n",
    "    \"\"\"\n",
    "    explainer = shap.TreeExplainer(model)\n",
    "    shap_values = explainer.shap_values(train_pool)\n",
    "    shap.summary_plot(shap_values, X, plot_size=plot_size)"
   ]
  },
  {
   "cell_type": "markdown",
   "metadata": {},
   "source": [
    "Постороим Shap"
   ]
  },
  {
   "cell_type": "code",
   "execution_count": 18,
   "metadata": {},
   "outputs": [
    {
     "data": {
      "image/png": "[encoded data removed]",
      "text/plain": [
       "<Figure size 1500x800 with 2 Axes>"
      ]
     },
     "metadata": {},
     "output_type": "display_data"
    }
   ],
   "source": [
    "shap_plot(cbc_t2, train_pool_t2, train[X])"
   ]
  },
  {
   "cell_type": "markdown",
   "metadata": {},
   "source": [
    "Наибольшее влияние оказывают текстовые признаки.  \n",
    "На тертьем месте - длина текста описания вакансии.\n",
    "Чем она меньше, тем большее вероятность предсказания положительного решения.\n",
    "\n",
    "Выведем влияние признаков в численном выражении, полученном внутренними средствами CatBoost."
   ]
  },
  {
   "cell_type": "code",
   "execution_count": 19,
   "metadata": {
    "colab": {
     "base_uri": "https://localhost:8080/",
     "height": 1000
    },
    "id": "nabGNzdLTzvs",
    "outputId": "80652cf0-f2e0-4275-bc4f-88fb29398143"
   },
   "outputs": [
    {
     "data": {
      "text/html": [
       "<div>\n",
       "<style scoped>\n",
       "    .dataframe tbody tr th:only-of-type {\n",
       "        vertical-align: middle;\n",
       "    }\n",
       "\n",
       "    .dataframe tbody tr th {\n",
       "        vertical-align: top;\n",
       "    }\n",
       "\n",
       "    .dataframe thead th {\n",
       "        text-align: right;\n",
       "    }\n",
       "</style>\n",
       "<table border=\"1\" class=\"dataframe\">\n",
       "  <thead>\n",
       "    <tr style=\"text-align: right;\">\n",
       "      <th></th>\n",
       "      <th>value</th>\n",
       "    </tr>\n",
       "  </thead>\n",
       "  <tbody>\n",
       "    <tr>\n",
       "      <th>vacancy_description_clear_stem</th>\n",
       "      <td>59.826547</td>\n",
       "    </tr>\n",
       "    <tr>\n",
       "      <th>vacancy_custom_position_clear_stem</th>\n",
       "      <td>10.644205</td>\n",
       "    </tr>\n",
       "    <tr>\n",
       "      <th>vacancy_description_len</th>\n",
       "      <td>4.792250</td>\n",
       "    </tr>\n",
       "    <tr>\n",
       "      <th>resume_position_clear_stem</th>\n",
       "      <td>4.482023</td>\n",
       "    </tr>\n",
       "    <tr>\n",
       "      <th>vacany_company_id</th>\n",
       "      <td>4.352170</td>\n",
       "    </tr>\n",
       "    <tr>\n",
       "      <th>birth_date</th>\n",
       "      <td>2.559354</td>\n",
       "    </tr>\n",
       "    <tr>\n",
       "      <th>vacancy_salary_to</th>\n",
       "      <td>1.404243</td>\n",
       "    </tr>\n",
       "    <tr>\n",
       "      <th>vacancy_salary_from</th>\n",
       "      <td>1.201441</td>\n",
       "    </tr>\n",
       "    <tr>\n",
       "      <th>vacancy_city_id</th>\n",
       "      <td>1.066404</td>\n",
       "    </tr>\n",
       "    <tr>\n",
       "      <th>dist_resume_position_vacancy_custom_position</th>\n",
       "      <td>0.991094</td>\n",
       "    </tr>\n",
       "    <tr>\n",
       "      <th>vacancy_salary_from_log</th>\n",
       "      <td>0.981248</td>\n",
       "    </tr>\n",
       "    <tr>\n",
       "      <th>vacancy_salary_to_log</th>\n",
       "      <td>0.953331</td>\n",
       "    </tr>\n",
       "    <tr>\n",
       "      <th>resume_region_id</th>\n",
       "      <td>0.811790</td>\n",
       "    </tr>\n",
       "    <tr>\n",
       "      <th>percentage_of_resume_completion</th>\n",
       "      <td>0.733242</td>\n",
       "    </tr>\n",
       "    <tr>\n",
       "      <th>vacancy_is_agency</th>\n",
       "      <td>0.626079</td>\n",
       "    </tr>\n",
       "    <tr>\n",
       "      <th>dist_resume_position_vacancy_description</th>\n",
       "      <td>0.575653</td>\n",
       "    </tr>\n",
       "    <tr>\n",
       "      <th>vacancy_offer_experience_year_count</th>\n",
       "      <td>0.523000</td>\n",
       "    </tr>\n",
       "    <tr>\n",
       "      <th>resume_salary_from</th>\n",
       "      <td>0.400306</td>\n",
       "    </tr>\n",
       "    <tr>\n",
       "      <th>vacancy_custom_position_len</th>\n",
       "      <td>0.397796</td>\n",
       "    </tr>\n",
       "    <tr>\n",
       "      <th>resume_salary_from_log</th>\n",
       "      <td>0.374559</td>\n",
       "    </tr>\n",
       "    <tr>\n",
       "      <th>resume_offer_experience_year_count</th>\n",
       "      <td>0.341961</td>\n",
       "    </tr>\n",
       "    <tr>\n",
       "      <th>conv_new_fetures</th>\n",
       "      <td>0.257616</td>\n",
       "    </tr>\n",
       "    <tr>\n",
       "      <th>resume_city_id</th>\n",
       "      <td>0.238565</td>\n",
       "    </tr>\n",
       "    <tr>\n",
       "      <th>vacancy_operating_schedule_id</th>\n",
       "      <td>0.166382</td>\n",
       "    </tr>\n",
       "    <tr>\n",
       "      <th>conv_res_features</th>\n",
       "      <td>0.148028</td>\n",
       "    </tr>\n",
       "    <tr>\n",
       "      <th>resume_offer_experience_year_count_=_vacancy_offer_experience_year_count</th>\n",
       "      <td>0.147653</td>\n",
       "    </tr>\n",
       "    <tr>\n",
       "      <th>resume_city_id_=_vacancy_city_id</th>\n",
       "      <td>0.142733</td>\n",
       "    </tr>\n",
       "    <tr>\n",
       "      <th>resume_is_upload_photo</th>\n",
       "      <td>0.113738</td>\n",
       "    </tr>\n",
       "    <tr>\n",
       "      <th>resume_position_len</th>\n",
       "      <td>0.111972</td>\n",
       "    </tr>\n",
       "    <tr>\n",
       "      <th>resume_salary_from_&gt;_vacancy_salary_from</th>\n",
       "      <td>0.101758</td>\n",
       "    </tr>\n",
       "    <tr>\n",
       "      <th>resume_salary_from_=_vacancy_salary_from</th>\n",
       "      <td>0.074373</td>\n",
       "    </tr>\n",
       "    <tr>\n",
       "      <th>resume_offer_experience_year_count_&gt;_vacancy_offer_experience_year_count</th>\n",
       "      <td>0.072788</td>\n",
       "    </tr>\n",
       "    <tr>\n",
       "      <th>resume_salary_from_=_vacancy_salary_to</th>\n",
       "      <td>0.066223</td>\n",
       "    </tr>\n",
       "    <tr>\n",
       "      <th>resume_offer_education_id</th>\n",
       "      <td>0.064985</td>\n",
       "    </tr>\n",
       "    <tr>\n",
       "      <th>resume_position_clear_stem_in_vacancy_custom_position_clear_stem</th>\n",
       "      <td>0.064163</td>\n",
       "    </tr>\n",
       "    <tr>\n",
       "      <th>vacancy_custom_position_clear_stem_in_resume_position_clear_stem</th>\n",
       "      <td>0.056139</td>\n",
       "    </tr>\n",
       "    <tr>\n",
       "      <th>resume_is_leaving</th>\n",
       "      <td>0.032542</td>\n",
       "    </tr>\n",
       "    <tr>\n",
       "      <th>resume_position_clear_stem_in_vacancy_description_clear_stem</th>\n",
       "      <td>0.028519</td>\n",
       "    </tr>\n",
       "    <tr>\n",
       "      <th>resume_salary_from_&gt;_vacancy_salary_to</th>\n",
       "      <td>0.026823</td>\n",
       "    </tr>\n",
       "    <tr>\n",
       "      <th>resume_offer_education_id_=_vacancy_offer_education_id</th>\n",
       "      <td>0.021548</td>\n",
       "    </tr>\n",
       "    <tr>\n",
       "      <th>vacancy_offer_experience_year_id</th>\n",
       "      <td>0.015637</td>\n",
       "    </tr>\n",
       "    <tr>\n",
       "      <th>resume_is_foreign_language</th>\n",
       "      <td>0.007948</td>\n",
       "    </tr>\n",
       "    <tr>\n",
       "      <th>vacancy_offer_education_id</th>\n",
       "      <td>0.001173</td>\n",
       "    </tr>\n",
       "    <tr>\n",
       "      <th>resume_city_search_job</th>\n",
       "      <td>0.000000</td>\n",
       "    </tr>\n",
       "  </tbody>\n",
       "</table>\n",
       "</div>"
      ],
      "text/plain": [
       "                                                        value\n",
       "vacancy_description_clear_stem                      59.826547\n",
       "vacancy_custom_position_clear_stem                  10.644205\n",
       "vacancy_description_len                              4.792250\n",
       "resume_position_clear_stem                           4.482023\n",
       "vacany_company_id                                    4.352170\n",
       "birth_date                                           2.559354\n",
       "vacancy_salary_to                                    1.404243\n",
       "vacancy_salary_from                                  1.201441\n",
       "vacancy_city_id                                      1.066404\n",
       "dist_resume_position_vacancy_custom_position         0.991094\n",
       "vacancy_salary_from_log                              0.981248\n",
       "vacancy_salary_to_log                                0.953331\n",
       "resume_region_id                                     0.811790\n",
       "percentage_of_resume_completion                      0.733242\n",
       "vacancy_is_agency                                    0.626079\n",
       "dist_resume_position_vacancy_description             0.575653\n",
       "vacancy_offer_experience_year_count                  0.523000\n",
       "resume_salary_from                                   0.400306\n",
       "vacancy_custom_position_len                          0.397796\n",
       "resume_salary_from_log                               0.374559\n",
       "resume_offer_experience_year_count                   0.341961\n",
       "conv_new_fetures                                     0.257616\n",
       "resume_city_id                                       0.238565\n",
       "vacancy_operating_schedule_id                        0.166382\n",
       "conv_res_features                                    0.148028\n",
       "resume_offer_experience_year_count_=_vacancy_of...   0.147653\n",
       "resume_city_id_=_vacancy_city_id                     0.142733\n",
       "resume_is_upload_photo                               0.113738\n",
       "resume_position_len                                  0.111972\n",
       "resume_salary_from_>_vacancy_salary_from             0.101758\n",
       "resume_salary_from_=_vacancy_salary_from             0.074373\n",
       "resume_offer_experience_year_count_>_vacancy_of...   0.072788\n",
       "resume_salary_from_=_vacancy_salary_to               0.066223\n",
       "resume_offer_education_id                            0.064985\n",
       "resume_position_clear_stem_in_vacancy_custom_po...   0.064163\n",
       "vacancy_custom_position_clear_stem_in_resume_po...   0.056139\n",
       "resume_is_leaving                                    0.032542\n",
       "resume_position_clear_stem_in_vacancy_descripti...   0.028519\n",
       "resume_salary_from_>_vacancy_salary_to               0.026823\n",
       "resume_offer_education_id_=_vacancy_offer_educa...   0.021548\n",
       "vacancy_offer_experience_year_id                     0.015637\n",
       "resume_is_foreign_language                           0.007948\n",
       "vacancy_offer_education_id                           0.001173\n",
       "resume_city_search_job                               0.000000"
      ]
     },
     "execution_count": 19,
     "metadata": {},
     "output_type": "execute_result"
    }
   ],
   "source": [
    "feature_important_t2 = pd.DataFrame(\n",
    "    cbc_t2.feature_importances_, cbc_t2.feature_names_, columns=[\"value\"]\n",
    ").sort_values(by=\"value\", ascending=False)\n",
    "\n",
    "feature_important_t2"
   ]
  },
  {
   "cell_type": "markdown",
   "metadata": {},
   "source": [
    "Полученные значения подтверждают полученные ранее выводы.\n",
    "При этом, существуют признаки, влияние которых на выход модели стремится к нулю.\n",
    "Исключение таких признаков из модели поможет уменьшить зашумленность данных и повысить целевую метрику.\n",
    "\n",
    "Проведем перебор первых 30 признаков."
   ]
  },
  {
   "cell_type": "markdown",
   "metadata": {},
   "source": [
    "### Оптимизация количества признаков"
   ]
  },
  {
   "cell_type": "code",
   "execution_count": 20,
   "metadata": {},
   "outputs": [],
   "source": [
    "def plot_valuable_features(feature_important, model, y):\n",
    "    \"\"\"\n",
    "    Функция принимает датафрейм с важностью признаков,\n",
    "    модель и целевой признак.\n",
    "    Внутри проходит перебор признаков и обучение модели на них.\n",
    "    Возвращает график изменения PR AUC.\n",
    "    \"\"\"\n",
    "    sum_importance = []\n",
    "    pr_auc_s = []\n",
    "    feature_nums = range(2, 31, 1)\n",
    "\n",
    "    for valuable_features in tqdm(feature_nums):\n",
    "        sum_importance.append(feature_important[0:valuable_features].sum()[0])\n",
    "\n",
    "        X_valuable = feature_important[0:valuable_features].index.tolist()\n",
    "        cat_features_valuable = [x for x in cat_features if x in X_valuable]\n",
    "        text_features_valuable = [x for x in text_features if x in X_valuable]\n",
    "\n",
    "        fit_params_valuable = {\n",
    "            \"cat_features\": cat_features_valuable,\n",
    "            \"text_features\": text_features_valuable,\n",
    "        }\n",
    "\n",
    "        score = cross_val_score(\n",
    "            model,\n",
    "            train[X_valuable],\n",
    "            train[y],\n",
    "            scoring=\"average_precision\",\n",
    "            cv=skf,\n",
    "            fit_params=fit_params_valuable,\n",
    "        ).mean()\n",
    "\n",
    "        pr_auc_s.append(score)\n",
    "\n",
    "    pd.DataFrame(pr_auc_s, list(feature_nums)).plot(legend=None)\n",
    "    plt.grid(True)\n",
    "    plt.xlabel(\"Количество фичей\")\n",
    "    plt.ylabel(\"PR AUC\")\n",
    "    plt.show()"
   ]
  },
  {
   "cell_type": "code",
   "execution_count": 21,
   "metadata": {
    "tags": []
   },
   "outputs": [
    {
     "data": {
      "application/vnd.jupyter.widget-view+json": {
       "model_id": "edae3cfcf0ff447390b31e0ac4b7dc60",
       "version_major": 2,
       "version_minor": 0
      },
      "text/plain": [
       "  0%|          | 0/29 [00:00<?, ?it/s]"
      ]
     },
     "metadata": {},
     "output_type": "display_data"
    },
    {
     "data": {
      "image/png": "[encoded data removed]",
      "text/plain": [
       "<Figure size 640x480 with 1 Axes>"
      ]
     },
     "metadata": {},
     "output_type": "display_data"
    }
   ],
   "source": [
    "plot_valuable_features(feature_important_t2, cbc_t2, y_2)"
   ]
  },
  {
   "cell_type": "markdown",
   "metadata": {},
   "source": [
    "По графику - оптимальное число признаков - 8.\n",
    "Среди них нет ни одного, созданного вручную."
   ]
  },
  {
   "cell_type": "code",
   "execution_count": 22,
   "metadata": {},
   "outputs": [
    {
     "data": {
      "text/plain": [
       "['vacancy_description_clear_stem',\n",
       " 'vacancy_custom_position_clear_stem',\n",
       " 'vacancy_description_len',\n",
       " 'resume_position_clear_stem',\n",
       " 'vacany_company_id',\n",
       " 'birth_date',\n",
       " 'vacancy_salary_to',\n",
       " 'vacancy_salary_from']"
      ]
     },
     "execution_count": 22,
     "metadata": {},
     "output_type": "execute_result"
    }
   ],
   "source": [
    "X_t2 = feature_important_t2[0:8].index.tolist()\n",
    "\n",
    "X_t2"
   ]
  },
  {
   "cell_type": "markdown",
   "metadata": {},
   "source": [
    "Подберем лучшие гиперпараметры для модели с усеченным набором признаков."
   ]
  },
  {
   "cell_type": "code",
   "execution_count": 23,
   "metadata": {},
   "outputs": [
    {
     "name": "stderr",
     "output_type": "stream",
     "text": [
      "\u001b[32m[I 2023-02-14 02:41:44,711]\u001b[0m A new study created in memory with name: no-name-558bc319-2dab-4fb7-82f7-b921c0dbf8de\u001b[0m\n",
      "Progress bar is experimental (supported from v1.2.0). The interface can change in the future.\n"
     ]
    },
    {
     "data": {
      "application/vnd.jupyter.widget-view+json": {
       "model_id": "8a9d2a66e8e14a77b736feedda2f7fb9",
       "version_major": 2,
       "version_minor": 0
      },
      "text/plain": [
       "  0%|          | 0/10 [00:00<?, ?it/s]"
      ]
     },
     "metadata": {},
     "output_type": "display_data"
    },
    {
     "name": "stdout",
     "output_type": "stream",
     "text": [
      "\u001b[32m[I 2023-02-14 02:44:22,602]\u001b[0m Trial 0 finished with value: 0.9650626997075624 and parameters: {'learning_rate': 0.5, 'min_data_in_leaf': 1, 'depth': 6, 'boosting_type': 'Plain', 'bootstrap_type': 'Bayesian'}. Best is trial 0 with value: 0.9650626997075624.\u001b[0m\n",
      "\u001b[32m[I 2023-02-14 02:53:00,019]\u001b[0m Trial 1 finished with value: 0.9588261884852566 and parameters: {'learning_rate': 0.27783352240984877, 'min_data_in_leaf': 6, 'depth': 10, 'boosting_type': 'Plain', 'bootstrap_type': 'MVS'}. Best is trial 0 with value: 0.9650626997075624.\u001b[0m\n",
      "\u001b[32m[I 2023-02-14 02:57:04,323]\u001b[0m Trial 2 finished with value: 0.9611921713805085 and parameters: {'learning_rate': 0.6654704506552259, 'min_data_in_leaf': 2, 'depth': 3, 'boosting_type': 'Ordered', 'bootstrap_type': 'Bayesian'}. Best is trial 0 with value: 0.9650626997075624.\u001b[0m\n",
      "\u001b[32m[I 2023-02-14 02:59:48,743]\u001b[0m Trial 3 finished with value: 0.9605906884835951 and parameters: {'learning_rate': 0.8662025549398842, 'min_data_in_leaf': 10, 'depth': 7, 'boosting_type': 'Plain', 'bootstrap_type': 'Bernoulli'}. Best is trial 0 with value: 0.9650626997075624.\u001b[0m\n",
      "\u001b[32m[I 2023-02-14 03:05:42,482]\u001b[0m Trial 4 finished with value: 0.9531196356545111 and parameters: {'learning_rate': 0.8778321312797801, 'min_data_in_leaf': 7, 'depth': 9, 'boosting_type': 'Plain', 'bootstrap_type': 'MVS'}. Best is trial 0 with value: 0.9650626997075624.\u001b[0m\n",
      "\u001b[32m[I 2023-02-14 03:10:18,258]\u001b[0m Trial 5 finished with value: 0.9616389878050378 and parameters: {'learning_rate': 0.7999684870210299, 'min_data_in_leaf': 7, 'depth': 4, 'boosting_type': 'Ordered', 'bootstrap_type': 'Bernoulli'}. Best is trial 0 with value: 0.9650626997075624.\u001b[0m\n",
      "\u001b[32m[I 2023-02-14 03:12:02,398]\u001b[0m Trial 6 finished with value: 0.9601051354295536 and parameters: {'learning_rate': 0.5048042274092479, 'min_data_in_leaf': 9, 'depth': 2, 'boosting_type': 'Plain', 'bootstrap_type': 'Bernoulli'}. Best is trial 0 with value: 0.9650626997075624.\u001b[0m\n",
      "\u001b[32m[I 2023-02-14 03:13:54,066]\u001b[0m Trial 7 finished with value: 0.9611843454756903 and parameters: {'learning_rate': 0.7953167362482753, 'min_data_in_leaf': 8, 'depth': 3, 'boosting_type': 'Plain', 'bootstrap_type': 'Bernoulli'}. Best is trial 0 with value: 0.9650626997075624.\u001b[0m\n",
      "\u001b[32m[I 2023-02-14 03:17:14,443]\u001b[0m Trial 8 finished with value: 0.9336283591073947 and parameters: {'learning_rate': 0.16876171368451057, 'min_data_in_leaf': 6, 'depth': 1, 'boosting_type': 'Ordered', 'bootstrap_type': 'MVS'}. Best is trial 0 with value: 0.9650626997075624.\u001b[0m\n",
      "\u001b[32m[I 2023-02-14 03:19:59,839]\u001b[0m Trial 9 finished with value: 0.9495614898967766 and parameters: {'learning_rate': 0.8567745533514091, 'min_data_in_leaf': 6, 'depth': 5, 'boosting_type': 'Plain', 'bootstrap_type': 'MVS'}. Best is trial 0 with value: 0.9650626997075624.\u001b[0m\n"
     ]
    }
   ],
   "source": [
    "cat_features_t2 = [x for x in cat_features if x in X_t2]\n",
    "text_features_t2 = [x for x in text_features if x in X_t2]\n",
    "\n",
    "fit_params_t2 = {\"cat_features\": cat_features_t2, \"text_features\": text_features_t2}\n",
    "\n",
    "study_cb_t2_opt = optuna_cbc(\n",
    "    X_t2,\n",
    "    y_2,\n",
    "    params_init=params_init,\n",
    "    fit_params=fit_params_t2,\n",
    "    first_iteration=study_cb_t2_best_params,\n",
    ")"
   ]
  },
  {
   "cell_type": "markdown",
   "metadata": {},
   "source": [
    "Опять лучший набор гиперпараметров - начальный."
   ]
  },
  {
   "cell_type": "markdown",
   "metadata": {},
   "source": [
    "### Подбор текстовых гиперпараметров"
   ]
  },
  {
   "cell_type": "code",
   "execution_count": 24,
   "metadata": {},
   "outputs": [],
   "source": [
    "def optuna_text(X, y, previews_params, fit_params, start_params):\n",
    "    \"\"\"\n",
    "    Функция обяъвления функции оптимизации Optuna по перебору минимальному количеству\n",
    "    используемых токенов для трех словарей: слово, биграм и триграм\n",
    "    \"\"\"\n",
    "\n",
    "    def objective(trial):\n",
    "\n",
    "        min_token_occurrence_1 = {\n",
    "            trial.suggest_int(\"min_token_occurrence_1\", 10, 1000, step=10)\n",
    "        }\n",
    "        min_token_occurrence_2 = {\n",
    "            trial.suggest_int(\"min_token_occurrence_2\", 10, 1000, step=10)\n",
    "        }\n",
    "        min_token_occurrence_3 = {\n",
    "            trial.suggest_int(\"min_token_occurrence_3\", 10, 1000, step=10)\n",
    "        }\n",
    "\n",
    "        params_optuna = {\n",
    "            **params_init,\n",
    "            **previews_params,\n",
    "            \"dictionaries\": [\n",
    "                {\n",
    "                    \"dictionary_id\": \"Word\",\n",
    "                    \"min_token_occurrence \": f\"{min_token_occurrence_1}\",\n",
    "                    \"max_dictionary_size\": \"1000000\",\n",
    "                    \"gram_order\": \"1\",\n",
    "                },\n",
    "                {\n",
    "                    \"dictionary_id\": \"BiGram\",\n",
    "                    \"min_token_occurrence \": f\"{min_token_occurrence_2}\",\n",
    "                    \"max_dictionary_size\": \"1000000\",\n",
    "                    \"gram_order\": \"2\",\n",
    "                },\n",
    "                {\n",
    "                    \"dictionary_id\": \"3Gram\",\n",
    "                    \"min_token_occurrence \": f\"{min_token_occurrence_3}\",\n",
    "                    \"max_dictionary_size\": \"1000000\",\n",
    "                    \"gram_order\": \"3\",\n",
    "                },\n",
    "            ],\n",
    "            \"feature_calcers\": [\n",
    "                \"NaiveBayes\",\n",
    "            ],\n",
    "        }\n",
    "\n",
    "        cbc_optuna = CatBoostClassifier(**params_optuna, verbose=False)\n",
    "\n",
    "        return cross_val_score(\n",
    "            cbc_optuna,\n",
    "            train[X],\n",
    "            train[y],\n",
    "            scoring=\"average_precision\",\n",
    "            cv=skf,\n",
    "            fit_params=fit_params,\n",
    "        ).mean()\n",
    "\n",
    "    study = optuna.create_study(\n",
    "        direction=\"maximize\", sampler=optuna.samplers.TPESampler(seed=SEED)\n",
    "    )\n",
    "\n",
    "    if start_params:\n",
    "        study.enqueue_trial(start_params)\n",
    "\n",
    "    study.optimize(objective, n_trials=10, show_progress_bar=True)\n",
    "\n",
    "    return study"
   ]
  },
  {
   "cell_type": "code",
   "execution_count": 25,
   "metadata": {},
   "outputs": [
    {
     "name": "stderr",
     "output_type": "stream",
     "text": [
      "\u001b[32m[I 2023-02-14 03:19:59,896]\u001b[0m A new study created in memory with name: no-name-11584618-c0cd-4b58-824b-c368271d0b0c\u001b[0m\n",
      "Progress bar is experimental (supported from v1.2.0). The interface can change in the future.\n"
     ]
    },
    {
     "data": {
      "application/vnd.jupyter.widget-view+json": {
       "model_id": "32421747e0ca4b9ea0b3a4fbfbd20ba2",
       "version_major": 2,
       "version_minor": 0
      },
      "text/plain": [
       "  0%|          | 0/10 [00:00<?, ?it/s]"
      ]
     },
     "metadata": {},
     "output_type": "display_data"
    },
    {
     "name": "stdout",
     "output_type": "stream",
     "text": [
      "\u001b[32m[I 2023-02-14 03:22:16,111]\u001b[0m Trial 0 finished with value: 0.9659109110368277 and parameters: {'min_token_occurrence_1': 150, 'min_token_occurrence_2': 480, 'min_token_occurrence_3': 460}. Best is trial 0 with value: 0.9659109110368277.\u001b[0m\n",
      "\u001b[32m[I 2023-02-14 03:24:30,303]\u001b[0m Trial 1 finished with value: 0.9661933688504828 and parameters: {'min_token_occurrence_1': 310, 'min_token_occurrence_2': 520, 'min_token_occurrence_3': 770}. Best is trial 1 with value: 0.9661933688504828.\u001b[0m\n",
      "\u001b[32m[I 2023-02-14 03:26:44,246]\u001b[0m Trial 2 finished with value: 0.9657807839103778 and parameters: {'min_token_occurrence_1': 790, 'min_token_occurrence_2': 880, 'min_token_occurrence_3': 190}. Best is trial 1 with value: 0.9661933688504828.\u001b[0m\n",
      "\u001b[32m[I 2023-02-14 03:28:57,483]\u001b[0m Trial 3 finished with value: 0.9659614792659342 and parameters: {'min_token_occurrence_1': 270, 'min_token_occurrence_2': 500, 'min_token_occurrence_3': 740}. Best is trial 1 with value: 0.9661933688504828.\u001b[0m\n",
      "\u001b[32m[I 2023-02-14 03:31:10,698]\u001b[0m Trial 4 finished with value: 0.9658730194103049 and parameters: {'min_token_occurrence_1': 200, 'min_token_occurrence_2': 180, 'min_token_occurrence_3': 540}. Best is trial 1 with value: 0.9661933688504828.\u001b[0m\n",
      "\u001b[32m[I 2023-02-14 03:33:24,439]\u001b[0m Trial 5 finished with value: 0.9660613032860119 and parameters: {'min_token_occurrence_1': 290, 'min_token_occurrence_2': 770, 'min_token_occurrence_3': 270}. Best is trial 1 with value: 0.9661933688504828.\u001b[0m\n",
      "\u001b[32m[I 2023-02-14 03:35:38,510]\u001b[0m Trial 6 finished with value: 0.9657741604074953 and parameters: {'min_token_occurrence_1': 300, 'min_token_occurrence_2': 970, 'min_token_occurrence_3': 920}. Best is trial 1 with value: 0.9661933688504828.\u001b[0m\n",
      "\u001b[32m[I 2023-02-14 03:37:51,354]\u001b[0m Trial 7 finished with value: 0.9659944565348055 and parameters: {'min_token_occurrence_1': 570, 'min_token_occurrence_2': 490, 'min_token_occurrence_3': 660}. Best is trial 1 with value: 0.9661933688504828.\u001b[0m\n",
      "\u001b[32m[I 2023-02-14 03:40:05,996]\u001b[0m Trial 8 finished with value: 0.9659768006607085 and parameters: {'min_token_occurrence_1': 540, 'min_token_occurrence_2': 1000, 'min_token_occurrence_3': 150}. Best is trial 1 with value: 0.9661933688504828.\u001b[0m\n",
      "\u001b[32m[I 2023-02-14 03:42:19,467]\u001b[0m Trial 9 finished with value: 0.9659433016346928 and parameters: {'min_token_occurrence_1': 980, 'min_token_occurrence_2': 620, 'min_token_occurrence_3': 730}. Best is trial 1 with value: 0.9661933688504828.\u001b[0m\n"
     ]
    }
   ],
   "source": [
    "try:\n",
    "    study_cb_t2_opt_best_params = study_cb_t2_opt.best_params\n",
    "except:\n",
    "    study_cb_t2_opt_best_params = {\n",
    "        \"learning_rate\": 0.5,\n",
    "        \"min_data_in_leaf\": 1,\n",
    "        \"depth\": 6,\n",
    "        \"boosting_type\": \"Plain\",\n",
    "        \"bootstrap_type\": \"Bayesian\",\n",
    "    }\n",
    "\n",
    "start_params_text_t2 = {\n",
    "    \"min_token_occurrence_1\": 150,\n",
    "    \"min_token_occurrence_2\": 480,\n",
    "    \"min_token_occurrence_3\": 460,\n",
    "}\n",
    "\n",
    "study_cb_t2_opt_text = optuna_text(\n",
    "    X_t2, y_2, study_cb_t2_opt_best_params, fit_params_t2, start_params_text_t2\n",
    ")"
   ]
  },
  {
   "cell_type": "markdown",
   "metadata": {},
   "source": [
    "Получено улучшение относительно раннего решения на 0,2% - до 96,62% "
   ]
  },
  {
   "cell_type": "markdown",
   "metadata": {
    "tags": []
   },
   "source": [
    "## Задача №1"
   ]
  },
  {
   "cell_type": "markdown",
   "metadata": {},
   "source": [
    "Добавим в вектор состояния целевой признак по второй задаче и объявим пул."
   ]
  },
  {
   "cell_type": "code",
   "execution_count": 26,
   "metadata": {},
   "outputs": [],
   "source": [
    "X = X + y_2\n",
    "\n",
    "train_pool_t1 = Pool(\n",
    "    data=train[X],\n",
    "    label=train[y_1],\n",
    "    text_features=text_features,\n",
    "    cat_features=cat_features,\n",
    ")"
   ]
  },
  {
   "cell_type": "code",
   "execution_count": 27,
   "metadata": {},
   "outputs": [
    {
     "name": "stdout",
     "output_type": "stream",
     "text": [
      "0:\tlearn: 0.6830290\ttotal: 39.9ms\tremaining: 39.9s\n",
      "250:\tlearn: 0.6490811\ttotal: 6.96s\tremaining: 20.8s\n",
      "500:\tlearn: 0.6277208\ttotal: 13.7s\tremaining: 13.7s\n",
      "750:\tlearn: 0.6081923\ttotal: 20.7s\tremaining: 6.86s\n",
      "999:\tlearn: 0.5898538\ttotal: 27.6s\tremaining: 0us\n",
      "0:\tlearn: 0.6829022\ttotal: 39.7ms\tremaining: 39.7s\n",
      "250:\tlearn: 0.6494983\ttotal: 7.07s\tremaining: 21.1s\n",
      "500:\tlearn: 0.6277604\ttotal: 13.9s\tremaining: 13.9s\n",
      "750:\tlearn: 0.6094986\ttotal: 20.8s\tremaining: 6.89s\n",
      "999:\tlearn: 0.5918458\ttotal: 27.8s\tremaining: 0us\n",
      "0:\tlearn: 0.6829394\ttotal: 35.7ms\tremaining: 35.7s\n",
      "250:\tlearn: 0.6498230\ttotal: 6.89s\tremaining: 20.6s\n",
      "500:\tlearn: 0.6283080\ttotal: 13.5s\tremaining: 13.5s\n",
      "750:\tlearn: 0.6094741\ttotal: 20.1s\tremaining: 6.67s\n",
      "999:\tlearn: 0.5922111\ttotal: 26.8s\tremaining: 0us\n",
      "0:\tlearn: 0.6830210\ttotal: 41.5ms\tremaining: 41.4s\n",
      "250:\tlearn: 0.6501098\ttotal: 7.13s\tremaining: 21.3s\n",
      "500:\tlearn: 0.6286330\ttotal: 14.2s\tremaining: 14.1s\n",
      "750:\tlearn: 0.6101614\ttotal: 21.1s\tremaining: 6.99s\n",
      "999:\tlearn: 0.5932058\ttotal: 28s\tremaining: 0us\n",
      "0:\tlearn: 0.6829551\ttotal: 35.6ms\tremaining: 35.6s\n",
      "250:\tlearn: 0.6488982\ttotal: 6.95s\tremaining: 20.7s\n",
      "500:\tlearn: 0.6266049\ttotal: 13.8s\tremaining: 13.8s\n",
      "750:\tlearn: 0.6076881\ttotal: 20.7s\tremaining: 6.87s\n",
      "999:\tlearn: 0.5907316\ttotal: 27.5s\tremaining: 0us\n"
     ]
    },
    {
     "data": {
      "text/plain": [
       "0.5229822915049382"
      ]
     },
     "execution_count": 27,
     "metadata": {},
     "output_type": "execute_result"
    }
   ],
   "source": [
    "cross_val_score(\n",
    "    cbc_init,\n",
    "    train[X],\n",
    "    train[y_1],\n",
    "    scoring=\"average_precision\",\n",
    "    cv=skf,\n",
    "    fit_params=fit_params,\n",
    ").mean()"
   ]
  },
  {
   "cell_type": "markdown",
   "metadata": {},
   "source": [
    "Полученное значение всего на 2,2% лучше случайного."
   ]
  },
  {
   "cell_type": "markdown",
   "metadata": {},
   "source": [
    "### Optuna"
   ]
  },
  {
   "cell_type": "code",
   "execution_count": 28,
   "metadata": {},
   "outputs": [
    {
     "name": "stderr",
     "output_type": "stream",
     "text": [
      "\u001b[32m[I 2023-02-14 03:45:31,110]\u001b[0m A new study created in memory with name: no-name-c243fad5-fa5d-49ce-9428-60648ae88999\u001b[0m\n",
      "Progress bar is experimental (supported from v1.2.0). The interface can change in the future.\n"
     ]
    },
    {
     "data": {
      "application/vnd.jupyter.widget-view+json": {
       "model_id": "9ed70deafe1e408baccfb7e04b07dd55",
       "version_major": 2,
       "version_minor": 0
      },
      "text/plain": [
       "  0%|          | 0/10 [00:00<?, ?it/s]"
      ]
     },
     "metadata": {},
     "output_type": "display_data"
    },
    {
     "name": "stdout",
     "output_type": "stream",
     "text": [
      "\u001b[32m[I 2023-02-14 03:48:40,751]\u001b[0m Trial 0 finished with value: 0.5219581526795748 and parameters: {'learning_rate': 0.5, 'min_data_in_leaf': 1, 'depth': 6, 'boosting_type': 'Plain', 'bootstrap_type': 'Bayesian'}. Best is trial 0 with value: 0.5219581526795748.\u001b[0m\n",
      "\u001b[32m[I 2023-02-14 03:57:16,799]\u001b[0m Trial 1 finished with value: 0.5239211853731288 and parameters: {'learning_rate': 0.27783352240984877, 'min_data_in_leaf': 6, 'depth': 10, 'boosting_type': 'Plain', 'bootstrap_type': 'MVS'}. Best is trial 1 with value: 0.5239211853731288.\u001b[0m\n",
      "\u001b[32m[I 2023-02-14 04:01:40,163]\u001b[0m Trial 2 finished with value: 0.5272297031723998 and parameters: {'learning_rate': 0.6654704506552259, 'min_data_in_leaf': 2, 'depth': 3, 'boosting_type': 'Ordered', 'bootstrap_type': 'Bayesian'}. Best is trial 2 with value: 0.5272297031723998.\u001b[0m\n",
      "\u001b[32m[I 2023-02-14 04:05:25,172]\u001b[0m Trial 3 finished with value: 0.5199151477840006 and parameters: {'learning_rate': 0.8662025549398842, 'min_data_in_leaf': 10, 'depth': 7, 'boosting_type': 'Plain', 'bootstrap_type': 'Bernoulli'}. Best is trial 2 with value: 0.5272297031723998.\u001b[0m\n",
      "\u001b[32m[I 2023-02-14 04:11:30,856]\u001b[0m Trial 4 finished with value: 0.5249711595340315 and parameters: {'learning_rate': 0.8778321312797801, 'min_data_in_leaf': 7, 'depth': 9, 'boosting_type': 'Plain', 'bootstrap_type': 'MVS'}. Best is trial 2 with value: 0.5272297031723998.\u001b[0m\n",
      "\u001b[32m[I 2023-02-14 04:16:23,329]\u001b[0m Trial 5 finished with value: 0.5259450958420723 and parameters: {'learning_rate': 0.7999684870210299, 'min_data_in_leaf': 7, 'depth': 4, 'boosting_type': 'Ordered', 'bootstrap_type': 'Bernoulli'}. Best is trial 2 with value: 0.5272297031723998.\u001b[0m\n",
      "\u001b[32m[I 2023-02-14 04:18:29,458]\u001b[0m Trial 6 finished with value: 0.5280287135046915 and parameters: {'learning_rate': 0.5048042274092479, 'min_data_in_leaf': 9, 'depth': 2, 'boosting_type': 'Plain', 'bootstrap_type': 'Bernoulli'}. Best is trial 6 with value: 0.5280287135046915.\u001b[0m\n",
      "\u001b[32m[I 2023-02-14 04:20:47,847]\u001b[0m Trial 7 finished with value: 0.5256995024485484 and parameters: {'learning_rate': 0.7953167362482753, 'min_data_in_leaf': 8, 'depth': 3, 'boosting_type': 'Plain', 'bootstrap_type': 'Bernoulli'}. Best is trial 6 with value: 0.5280287135046915.\u001b[0m\n",
      "\u001b[32m[I 2023-02-14 04:24:18,710]\u001b[0m Trial 8 finished with value: 0.5272008708259183 and parameters: {'learning_rate': 0.16876171368451057, 'min_data_in_leaf': 6, 'depth': 1, 'boosting_type': 'Ordered', 'bootstrap_type': 'MVS'}. Best is trial 6 with value: 0.5280287135046915.\u001b[0m\n",
      "\u001b[32m[I 2023-02-14 04:27:28,309]\u001b[0m Trial 9 finished with value: 0.5274330355137578 and parameters: {'learning_rate': 0.8567745533514091, 'min_data_in_leaf': 6, 'depth': 5, 'boosting_type': 'Plain', 'bootstrap_type': 'MVS'}. Best is trial 6 with value: 0.5280287135046915.\u001b[0m\n"
     ]
    }
   ],
   "source": [
    "study_cb_t1 = optuna_cbc(\n",
    "    X,\n",
    "    y_1,\n",
    "    params_init=params_init,\n",
    "    fit_params=fit_params,\n",
    "    first_iteration=first_iteration,\n",
    ")"
   ]
  },
  {
   "cell_type": "markdown",
   "metadata": {
    "id": "lvSNDAiyDulc"
   },
   "source": [
    "Результат подбора гиперпараметра - PR AUC на кроссвалидации = 52,7% (на 0,5% лучше начального).  "
   ]
  },
  {
   "cell_type": "markdown",
   "metadata": {},
   "source": [
    "### Shap"
   ]
  },
  {
   "cell_type": "code",
   "execution_count": 29,
   "metadata": {},
   "outputs": [],
   "source": [
    "try:\n",
    "    study_cb_t1_best_params = study_cb_t1.best_params\n",
    "except:\n",
    "    study_cb_t1_best_params = {\n",
    "        \"learning_rate\": 0.5048042274092479,\n",
    "        \"min_data_in_leaf\": 9,\n",
    "        \"depth\": 2,\n",
    "        \"boosting_type\": \"Plain\",\n",
    "        \"bootstrap_type\": \"Bernoulli\",\n",
    "    }"
   ]
  },
  {
   "cell_type": "code",
   "execution_count": 30,
   "metadata": {},
   "outputs": [
    {
     "data": {
      "text/plain": [
       "<catboost.core.CatBoostClassifier at 0x7f91154f09a0>"
      ]
     },
     "execution_count": 30,
     "metadata": {},
     "output_type": "execute_result"
    }
   ],
   "source": [
    "params_cb_t1 = {\n",
    "    **params_init,\n",
    "    **study_cb_t1_best_params,\n",
    "}\n",
    "\n",
    "cbc_t1 = CatBoostClassifier(**params_cb_t1, verbose=False)\n",
    "\n",
    "cbc_t1.fit(train_pool_t1)"
   ]
  },
  {
   "cell_type": "code",
   "execution_count": 31,
   "metadata": {},
   "outputs": [
    {
     "data": {
      "image/png": "[encoded data removed]",
      "text/plain": [
       "<Figure size 1500x800 with 2 Axes>"
      ]
     },
     "metadata": {},
     "output_type": "display_data"
    }
   ],
   "source": [
    "shap_plot(cbc_t1, train_pool_t1, train[X])"
   ]
  },
  {
   "cell_type": "markdown",
   "metadata": {},
   "source": [
    "Наибольшее влияние оказывают текстовые признаки, целевой признак по второй задаче и нижняя граница вилки в логарифмическом масштабе.\n",
    "Остальные признаки практически не выделяются. "
   ]
  },
  {
   "cell_type": "code",
   "execution_count": 32,
   "metadata": {
    "colab": {
     "base_uri": "https://localhost:8080/",
     "height": 1000
    },
    "id": "nabGNzdLTzvs",
    "outputId": "80652cf0-f2e0-4275-bc4f-88fb29398143"
   },
   "outputs": [
    {
     "data": {
      "text/html": [
       "<div>\n",
       "<style scoped>\n",
       "    .dataframe tbody tr th:only-of-type {\n",
       "        vertical-align: middle;\n",
       "    }\n",
       "\n",
       "    .dataframe tbody tr th {\n",
       "        vertical-align: top;\n",
       "    }\n",
       "\n",
       "    .dataframe thead th {\n",
       "        text-align: right;\n",
       "    }\n",
       "</style>\n",
       "<table border=\"1\" class=\"dataframe\">\n",
       "  <thead>\n",
       "    <tr style=\"text-align: right;\">\n",
       "      <th></th>\n",
       "      <th>value</th>\n",
       "    </tr>\n",
       "  </thead>\n",
       "  <tbody>\n",
       "    <tr>\n",
       "      <th>vacancy_description_clear_stem</th>\n",
       "      <td>38.688885</td>\n",
       "    </tr>\n",
       "    <tr>\n",
       "      <th>target_task_2</th>\n",
       "      <td>29.973382</td>\n",
       "    </tr>\n",
       "    <tr>\n",
       "      <th>vacancy_custom_position_clear_stem</th>\n",
       "      <td>15.935052</td>\n",
       "    </tr>\n",
       "    <tr>\n",
       "      <th>resume_position_clear_stem</th>\n",
       "      <td>7.720750</td>\n",
       "    </tr>\n",
       "    <tr>\n",
       "      <th>vacancy_description_len</th>\n",
       "      <td>1.171858</td>\n",
       "    </tr>\n",
       "    <tr>\n",
       "      <th>dist_resume_position_vacancy_custom_position</th>\n",
       "      <td>0.795871</td>\n",
       "    </tr>\n",
       "    <tr>\n",
       "      <th>birth_date</th>\n",
       "      <td>0.791687</td>\n",
       "    </tr>\n",
       "    <tr>\n",
       "      <th>percentage_of_resume_completion</th>\n",
       "      <td>0.693641</td>\n",
       "    </tr>\n",
       "    <tr>\n",
       "      <th>vacancy_salary_to</th>\n",
       "      <td>0.567839</td>\n",
       "    </tr>\n",
       "    <tr>\n",
       "      <th>vacany_company_id</th>\n",
       "      <td>0.515539</td>\n",
       "    </tr>\n",
       "    <tr>\n",
       "      <th>resume_region_id</th>\n",
       "      <td>0.377864</td>\n",
       "    </tr>\n",
       "    <tr>\n",
       "      <th>dist_resume_position_vacancy_description</th>\n",
       "      <td>0.340441</td>\n",
       "    </tr>\n",
       "    <tr>\n",
       "      <th>resume_salary_from_log</th>\n",
       "      <td>0.224518</td>\n",
       "    </tr>\n",
       "    <tr>\n",
       "      <th>vacancy_salary_from</th>\n",
       "      <td>0.217119</td>\n",
       "    </tr>\n",
       "    <tr>\n",
       "      <th>vacancy_custom_position_clear_stem_in_resume_position_clear_stem</th>\n",
       "      <td>0.211260</td>\n",
       "    </tr>\n",
       "    <tr>\n",
       "      <th>resume_salary_from</th>\n",
       "      <td>0.207236</td>\n",
       "    </tr>\n",
       "    <tr>\n",
       "      <th>vacancy_salary_to_log</th>\n",
       "      <td>0.201657</td>\n",
       "    </tr>\n",
       "    <tr>\n",
       "      <th>vacancy_salary_from_log</th>\n",
       "      <td>0.161427</td>\n",
       "    </tr>\n",
       "    <tr>\n",
       "      <th>vacancy_offer_education_id</th>\n",
       "      <td>0.153267</td>\n",
       "    </tr>\n",
       "    <tr>\n",
       "      <th>resume_offer_experience_year_count_&gt;_vacancy_offer_experience_year_count</th>\n",
       "      <td>0.140971</td>\n",
       "    </tr>\n",
       "    <tr>\n",
       "      <th>resume_city_id</th>\n",
       "      <td>0.118221</td>\n",
       "    </tr>\n",
       "    <tr>\n",
       "      <th>vacancy_city_id</th>\n",
       "      <td>0.096274</td>\n",
       "    </tr>\n",
       "    <tr>\n",
       "      <th>resume_offer_experience_year_count</th>\n",
       "      <td>0.095629</td>\n",
       "    </tr>\n",
       "    <tr>\n",
       "      <th>conv_new_fetures</th>\n",
       "      <td>0.093851</td>\n",
       "    </tr>\n",
       "    <tr>\n",
       "      <th>resume_position_clear_stem_in_vacancy_custom_position_clear_stem</th>\n",
       "      <td>0.068052</td>\n",
       "    </tr>\n",
       "    <tr>\n",
       "      <th>vacancy_offer_experience_year_count</th>\n",
       "      <td>0.063754</td>\n",
       "    </tr>\n",
       "    <tr>\n",
       "      <th>resume_offer_education_id_=_vacancy_offer_education_id</th>\n",
       "      <td>0.061813</td>\n",
       "    </tr>\n",
       "    <tr>\n",
       "      <th>resume_position_len</th>\n",
       "      <td>0.056106</td>\n",
       "    </tr>\n",
       "    <tr>\n",
       "      <th>conv_res_features</th>\n",
       "      <td>0.054046</td>\n",
       "    </tr>\n",
       "    <tr>\n",
       "      <th>resume_position_clear_stem_in_vacancy_description_clear_stem</th>\n",
       "      <td>0.047320</td>\n",
       "    </tr>\n",
       "    <tr>\n",
       "      <th>resume_is_leaving</th>\n",
       "      <td>0.042637</td>\n",
       "    </tr>\n",
       "    <tr>\n",
       "      <th>resume_city_id_=_vacancy_city_id</th>\n",
       "      <td>0.030028</td>\n",
       "    </tr>\n",
       "    <tr>\n",
       "      <th>resume_salary_from_=_vacancy_salary_to</th>\n",
       "      <td>0.029272</td>\n",
       "    </tr>\n",
       "    <tr>\n",
       "      <th>resume_salary_from_&gt;_vacancy_salary_to</th>\n",
       "      <td>0.020947</td>\n",
       "    </tr>\n",
       "    <tr>\n",
       "      <th>vacancy_custom_position_len</th>\n",
       "      <td>0.013824</td>\n",
       "    </tr>\n",
       "    <tr>\n",
       "      <th>vacancy_operating_schedule_id</th>\n",
       "      <td>0.010012</td>\n",
       "    </tr>\n",
       "    <tr>\n",
       "      <th>resume_salary_from_=_vacancy_salary_from</th>\n",
       "      <td>0.006641</td>\n",
       "    </tr>\n",
       "    <tr>\n",
       "      <th>vacancy_offer_experience_year_id</th>\n",
       "      <td>0.001308</td>\n",
       "    </tr>\n",
       "    <tr>\n",
       "      <th>vacancy_is_agency</th>\n",
       "      <td>0.000000</td>\n",
       "    </tr>\n",
       "    <tr>\n",
       "      <th>resume_offer_experience_year_count_=_vacancy_offer_experience_year_count</th>\n",
       "      <td>0.000000</td>\n",
       "    </tr>\n",
       "    <tr>\n",
       "      <th>resume_is_upload_photo</th>\n",
       "      <td>0.000000</td>\n",
       "    </tr>\n",
       "    <tr>\n",
       "      <th>resume_is_foreign_language</th>\n",
       "      <td>0.000000</td>\n",
       "    </tr>\n",
       "    <tr>\n",
       "      <th>resume_offer_education_id</th>\n",
       "      <td>0.000000</td>\n",
       "    </tr>\n",
       "    <tr>\n",
       "      <th>resume_salary_from_&gt;_vacancy_salary_from</th>\n",
       "      <td>0.000000</td>\n",
       "    </tr>\n",
       "    <tr>\n",
       "      <th>resume_city_search_job</th>\n",
       "      <td>0.000000</td>\n",
       "    </tr>\n",
       "  </tbody>\n",
       "</table>\n",
       "</div>"
      ],
      "text/plain": [
       "                                                        value\n",
       "vacancy_description_clear_stem                      38.688885\n",
       "target_task_2                                       29.973382\n",
       "vacancy_custom_position_clear_stem                  15.935052\n",
       "resume_position_clear_stem                           7.720750\n",
       "vacancy_description_len                              1.171858\n",
       "dist_resume_position_vacancy_custom_position         0.795871\n",
       "birth_date                                           0.791687\n",
       "percentage_of_resume_completion                      0.693641\n",
       "vacancy_salary_to                                    0.567839\n",
       "vacany_company_id                                    0.515539\n",
       "resume_region_id                                     0.377864\n",
       "dist_resume_position_vacancy_description             0.340441\n",
       "resume_salary_from_log                               0.224518\n",
       "vacancy_salary_from                                  0.217119\n",
       "vacancy_custom_position_clear_stem_in_resume_po...   0.211260\n",
       "resume_salary_from                                   0.207236\n",
       "vacancy_salary_to_log                                0.201657\n",
       "vacancy_salary_from_log                              0.161427\n",
       "vacancy_offer_education_id                           0.153267\n",
       "resume_offer_experience_year_count_>_vacancy_of...   0.140971\n",
       "resume_city_id                                       0.118221\n",
       "vacancy_city_id                                      0.096274\n",
       "resume_offer_experience_year_count                   0.095629\n",
       "conv_new_fetures                                     0.093851\n",
       "resume_position_clear_stem_in_vacancy_custom_po...   0.068052\n",
       "vacancy_offer_experience_year_count                  0.063754\n",
       "resume_offer_education_id_=_vacancy_offer_educa...   0.061813\n",
       "resume_position_len                                  0.056106\n",
       "conv_res_features                                    0.054046\n",
       "resume_position_clear_stem_in_vacancy_descripti...   0.047320\n",
       "resume_is_leaving                                    0.042637\n",
       "resume_city_id_=_vacancy_city_id                     0.030028\n",
       "resume_salary_from_=_vacancy_salary_to               0.029272\n",
       "resume_salary_from_>_vacancy_salary_to               0.020947\n",
       "vacancy_custom_position_len                          0.013824\n",
       "vacancy_operating_schedule_id                        0.010012\n",
       "resume_salary_from_=_vacancy_salary_from             0.006641\n",
       "vacancy_offer_experience_year_id                     0.001308\n",
       "vacancy_is_agency                                    0.000000\n",
       "resume_offer_experience_year_count_=_vacancy_of...   0.000000\n",
       "resume_is_upload_photo                               0.000000\n",
       "resume_is_foreign_language                           0.000000\n",
       "resume_offer_education_id                            0.000000\n",
       "resume_salary_from_>_vacancy_salary_from             0.000000\n",
       "resume_city_search_job                               0.000000"
      ]
     },
     "execution_count": 32,
     "metadata": {},
     "output_type": "execute_result"
    }
   ],
   "source": [
    "feature_important_t1 = pd.DataFrame(\n",
    "    cbc_t1.feature_importances_, cbc_t1.feature_names_, columns=[\"value\"]\n",
    ").sort_values(by=\"value\", ascending=False)\n",
    "\n",
    "feature_important_t1"
   ]
  },
  {
   "cell_type": "markdown",
   "metadata": {},
   "source": [
    "Полученные значения подтверждают полученные ранее выводы.\n",
    "При этом, существуют признаки, влияние которых на выход модели стремится к нулю.\n",
    "\n",
    "Проведем перебор первых 30 признаков."
   ]
  },
  {
   "cell_type": "markdown",
   "metadata": {},
   "source": [
    "### Оптимизация количества признаков"
   ]
  },
  {
   "cell_type": "code",
   "execution_count": 33,
   "metadata": {},
   "outputs": [
    {
     "data": {
      "application/vnd.jupyter.widget-view+json": {
       "model_id": "a04d0d7f4c7843968960a7d8ed991e1c",
       "version_major": 2,
       "version_minor": 0
      },
      "text/plain": [
       "  0%|          | 0/29 [00:00<?, ?it/s]"
      ]
     },
     "metadata": {},
     "output_type": "display_data"
    },
    {
     "data": {
      "image/png": "[encoded data removed]",
      "text/plain": [
       "<Figure size 640x480 with 1 Axes>"
      ]
     },
     "metadata": {},
     "output_type": "display_data"
    }
   ],
   "source": [
    "plot_valuable_features(feature_important_t1, cbc_t1, y_1)"
   ]
  },
  {
   "cell_type": "markdown",
   "metadata": {},
   "source": [
    "По графику - оптимальное число признаков - 3.\n",
    "Среди них нет ни одного, созданного вручную."
   ]
  },
  {
   "cell_type": "code",
   "execution_count": 34,
   "metadata": {},
   "outputs": [
    {
     "data": {
      "text/plain": [
       "['vacancy_description_clear_stem',\n",
       " 'target_task_2',\n",
       " 'vacancy_custom_position_clear_stem']"
      ]
     },
     "execution_count": 34,
     "metadata": {},
     "output_type": "execute_result"
    }
   ],
   "source": [
    "X_t1 = feature_important_t1[0:3].index.tolist()\n",
    "X_t1"
   ]
  },
  {
   "cell_type": "code",
   "execution_count": 35,
   "metadata": {},
   "outputs": [
    {
     "name": "stderr",
     "output_type": "stream",
     "text": [
      "\u001b[32m[I 2023-02-14 05:21:40,038]\u001b[0m A new study created in memory with name: no-name-438cdad3-b9d4-4d2d-9740-626f4d58e7d6\u001b[0m\n",
      "Progress bar is experimental (supported from v1.2.0). The interface can change in the future.\n"
     ]
    },
    {
     "data": {
      "application/vnd.jupyter.widget-view+json": {
       "model_id": "6588be2306e44659b5d3193d70110144",
       "version_major": 2,
       "version_minor": 0
      },
      "text/plain": [
       "  0%|          | 0/10 [00:00<?, ?it/s]"
      ]
     },
     "metadata": {},
     "output_type": "display_data"
    },
    {
     "name": "stdout",
     "output_type": "stream",
     "text": [
      "\u001b[32m[I 2023-02-14 05:23:10,019]\u001b[0m Trial 0 finished with value: 0.5284287912325987 and parameters: {'learning_rate': 0.5048042274092479, 'min_data_in_leaf': 9, 'depth': 2, 'boosting_type': 'Plain', 'bootstrap_type': 'Bernoulli'}. Best is trial 0 with value: 0.5284287912325987.\u001b[0m\n",
      "\u001b[32m[I 2023-02-14 05:29:36,794]\u001b[0m Trial 1 finished with value: 0.5236685173269006 and parameters: {'learning_rate': 0.27783352240984877, 'min_data_in_leaf': 6, 'depth': 10, 'boosting_type': 'Plain', 'bootstrap_type': 'MVS'}. Best is trial 0 with value: 0.5284287912325987.\u001b[0m\n",
      "\u001b[32m[I 2023-02-14 05:32:57,353]\u001b[0m Trial 2 finished with value: 0.5275313074889993 and parameters: {'learning_rate': 0.6654704506552259, 'min_data_in_leaf': 2, 'depth': 3, 'boosting_type': 'Ordered', 'bootstrap_type': 'Bayesian'}. Best is trial 0 with value: 0.5284287912325987.\u001b[0m\n",
      "\u001b[32m[I 2023-02-14 05:35:17,325]\u001b[0m Trial 3 finished with value: 0.521667317179517 and parameters: {'learning_rate': 0.8662025549398842, 'min_data_in_leaf': 10, 'depth': 7, 'boosting_type': 'Plain', 'bootstrap_type': 'Bernoulli'}. Best is trial 0 with value: 0.5284287912325987.\u001b[0m\n",
      "\u001b[32m[I 2023-02-14 05:39:50,971]\u001b[0m Trial 4 finished with value: 0.5227921924642281 and parameters: {'learning_rate': 0.8778321312797801, 'min_data_in_leaf': 7, 'depth': 9, 'boosting_type': 'Plain', 'bootstrap_type': 'MVS'}. Best is trial 0 with value: 0.5284287912325987.\u001b[0m\n",
      "\u001b[32m[I 2023-02-14 05:43:31,297]\u001b[0m Trial 5 finished with value: 0.5257359463924082 and parameters: {'learning_rate': 0.7999684870210299, 'min_data_in_leaf': 7, 'depth': 4, 'boosting_type': 'Ordered', 'bootstrap_type': 'Bernoulli'}. Best is trial 0 with value: 0.5284287912325987.\u001b[0m\n",
      "\u001b[32m[I 2023-02-14 05:45:02,665]\u001b[0m Trial 6 finished with value: 0.5296100113445441 and parameters: {'learning_rate': 0.5048042274092479, 'min_data_in_leaf': 9, 'depth': 2, 'boosting_type': 'Plain', 'bootstrap_type': 'Bernoulli'}. Best is trial 6 with value: 0.5296100113445441.\u001b[0m\n",
      "\u001b[32m[I 2023-02-14 05:46:39,860]\u001b[0m Trial 7 finished with value: 0.5265404280978161 and parameters: {'learning_rate': 0.7953167362482753, 'min_data_in_leaf': 8, 'depth': 3, 'boosting_type': 'Plain', 'bootstrap_type': 'Bernoulli'}. Best is trial 6 with value: 0.5296100113445441.\u001b[0m\n",
      "\u001b[32m[I 2023-02-14 05:49:28,346]\u001b[0m Trial 8 finished with value: 0.530235126460579 and parameters: {'learning_rate': 0.16876171368451057, 'min_data_in_leaf': 6, 'depth': 1, 'boosting_type': 'Ordered', 'bootstrap_type': 'MVS'}. Best is trial 8 with value: 0.530235126460579.\u001b[0m\n",
      "\u001b[32m[I 2023-02-14 05:51:31,121]\u001b[0m Trial 9 finished with value: 0.5299958017968002 and parameters: {'learning_rate': 0.8567745533514091, 'min_data_in_leaf': 6, 'depth': 5, 'boosting_type': 'Plain', 'bootstrap_type': 'MVS'}. Best is trial 8 with value: 0.530235126460579.\u001b[0m\n"
     ]
    }
   ],
   "source": [
    "cat_features_t1 = [x for x in cat_features if x in X_t1]\n",
    "text_features_t1 = [x for x in text_features if x in X_t1]\n",
    "\n",
    "fit_params_t1 = {\"cat_features\": cat_features_t1, \"text_features\": text_features_t1}\n",
    "\n",
    "study_cb_t1_opt = optuna_cbc(\n",
    "    X_t1,\n",
    "    y_1,\n",
    "    params_init=params_init,\n",
    "    fit_params=fit_params_t1,\n",
    "    first_iteration=study_cb_t1_best_params,\n",
    ")"
   ]
  },
  {
   "cell_type": "markdown",
   "metadata": {},
   "source": [
    "Целевая метрика увеличилась до 53%."
   ]
  },
  {
   "cell_type": "code",
   "execution_count": 36,
   "metadata": {},
   "outputs": [],
   "source": [
    "try:\n",
    "    study_cb_t1_opt_best_params = study_cb_t1_opt.best_params\n",
    "except:\n",
    "    study_cb_t1_opt_best_params = {\n",
    "        \"learning_rate\": 0.5048042274092479,\n",
    "        \"min_data_in_leaf\": 9,\n",
    "        \"depth\": 2,\n",
    "        \"boosting_type\": \"Plain\",\n",
    "        \"bootstrap_type\": \"Bernoulli\",\n",
    "    }"
   ]
  },
  {
   "cell_type": "markdown",
   "metadata": {},
   "source": [
    "### Подбор текстовых гиперпараметров"
   ]
  },
  {
   "cell_type": "code",
   "execution_count": 53,
   "metadata": {},
   "outputs": [
    {
     "name": "stderr",
     "output_type": "stream",
     "text": [
      "\u001b[32m[I 2023-02-14 21:06:19,158]\u001b[0m A new study created in memory with name: no-name-9ee1f3ff-37f3-4c48-bae0-491675150766\u001b[0m\n",
      "Progress bar is experimental (supported from v1.2.0). The interface can change in the future.\n"
     ]
    },
    {
     "data": {
      "application/vnd.jupyter.widget-view+json": {
       "model_id": "5bb1d4751fb3487fb75d78b9f316391d",
       "version_major": 2,
       "version_minor": 0
      },
      "text/plain": [
       "  0%|          | 0/10 [00:00<?, ?it/s]"
      ]
     },
     "metadata": {},
     "output_type": "display_data"
    },
    {
     "name": "stdout",
     "output_type": "stream",
     "text": [
      "\u001b[32m[I 2023-02-14 21:09:01,583]\u001b[0m Trial 0 finished with value: 0.5285989346811645 and parameters: {'min_token_occurrence_1': 10, 'min_token_occurrence_2': 10, 'min_token_occurrence_3': 10}. Best is trial 0 with value: 0.5285989346811645.\u001b[0m\n",
      "\u001b[32m[I 2023-02-14 21:11:43,945]\u001b[0m Trial 1 finished with value: 0.5286752465282927 and parameters: {'min_token_occurrence_1': 310, 'min_token_occurrence_2': 520, 'min_token_occurrence_3': 770}. Best is trial 1 with value: 0.5286752465282927.\u001b[0m\n",
      "\u001b[32m[I 2023-02-14 21:14:24,419]\u001b[0m Trial 2 finished with value: 0.5283736729561905 and parameters: {'min_token_occurrence_1': 790, 'min_token_occurrence_2': 880, 'min_token_occurrence_3': 190}. Best is trial 1 with value: 0.5286752465282927.\u001b[0m\n",
      "\u001b[32m[I 2023-02-14 21:17:06,868]\u001b[0m Trial 3 finished with value: 0.5283955505312534 and parameters: {'min_token_occurrence_1': 270, 'min_token_occurrence_2': 500, 'min_token_occurrence_3': 740}. Best is trial 1 with value: 0.5286752465282927.\u001b[0m\n",
      "\u001b[32m[I 2023-02-14 21:19:49,216]\u001b[0m Trial 4 finished with value: 0.5283032113168857 and parameters: {'min_token_occurrence_1': 200, 'min_token_occurrence_2': 180, 'min_token_occurrence_3': 540}. Best is trial 1 with value: 0.5286752465282927.\u001b[0m\n",
      "\u001b[32m[I 2023-02-14 21:22:33,857]\u001b[0m Trial 5 finished with value: 0.5283329804069721 and parameters: {'min_token_occurrence_1': 290, 'min_token_occurrence_2': 770, 'min_token_occurrence_3': 270}. Best is trial 1 with value: 0.5286752465282927.\u001b[0m\n",
      "\u001b[32m[I 2023-02-14 21:25:14,822]\u001b[0m Trial 6 finished with value: 0.5285239370489616 and parameters: {'min_token_occurrence_1': 300, 'min_token_occurrence_2': 970, 'min_token_occurrence_3': 920}. Best is trial 1 with value: 0.5286752465282927.\u001b[0m\n",
      "\u001b[32m[I 2023-02-14 21:27:57,936]\u001b[0m Trial 7 finished with value: 0.5286159658428682 and parameters: {'min_token_occurrence_1': 570, 'min_token_occurrence_2': 490, 'min_token_occurrence_3': 660}. Best is trial 1 with value: 0.5286752465282927.\u001b[0m\n",
      "\u001b[32m[I 2023-02-14 21:30:39,302]\u001b[0m Trial 8 finished with value: 0.5282401338315053 and parameters: {'min_token_occurrence_1': 540, 'min_token_occurrence_2': 1000, 'min_token_occurrence_3': 150}. Best is trial 1 with value: 0.5286752465282927.\u001b[0m\n",
      "\u001b[32m[I 2023-02-14 21:33:21,290]\u001b[0m Trial 9 finished with value: 0.5286922330313117 and parameters: {'min_token_occurrence_1': 980, 'min_token_occurrence_2': 620, 'min_token_occurrence_3': 730}. Best is trial 9 with value: 0.5286922330313117.\u001b[0m\n"
     ]
    }
   ],
   "source": [
    "try:\n",
    "    study_cb_t1_opt_best_params = study_cb_t1_opt.best_params\n",
    "except:\n",
    "    study_cb_t1_opt_best_params = {\n",
    "        \"learning_rate\": 0.5,\n",
    "        \"min_data_in_leaf\": 1,\n",
    "        \"depth\": 6,\n",
    "        \"boosting_type\": \"Plain\",\n",
    "        \"bootstrap_type\": \"Bayesian\",\n",
    "    }\n",
    "\n",
    "start_params_text_t1 = {\n",
    "    \"min_token_occurrence_1\": 10,\n",
    "    \"min_token_occurrence_2\": 10,\n",
    "    \"min_token_occurrence_3\": 10,\n",
    "}\n",
    "\n",
    "study_cb_t1_opt_text = optuna_text(\n",
    "    X_t1, y_1, study_cb_t1_opt_best_params, fit_params_t1, start_params_text_t1\n",
    ")"
   ]
  },
  {
   "cell_type": "markdown",
   "metadata": {},
   "source": [
    "Целевая метрика увеличилась до 52,89%."
   ]
  },
  {
   "cell_type": "markdown",
   "metadata": {
    "id": "lJoX2-Ay7vK6"
   },
   "source": [
    "## Test"
   ]
  },
  {
   "cell_type": "code",
   "execution_count": 49,
   "metadata": {},
   "outputs": [
    {
     "data": {
      "text/plain": [
       "<catboost.core.CatBoostClassifier at 0x7f911b608820>"
      ]
     },
     "execution_count": 49,
     "metadata": {},
     "output_type": "execute_result"
    }
   ],
   "source": [
    "# Итоговый обучающий пул для второй задачи\n",
    "train_pool_t2_best = Pool(\n",
    "    data=train[X_t2],\n",
    "    label=train[y_2],\n",
    "    text_features=text_features_t2,\n",
    "    cat_features=cat_features_t2,\n",
    ")\n",
    "\n",
    "# Лучшие текстовые параметры\n",
    "min_token_occurrence_1 = study_cb_t2_opt_text.best_params[\"min_token_occurrence_1\"]\n",
    "min_token_occurrence_2 = study_cb_t2_opt_text.best_params[\"min_token_occurrence_2\"]\n",
    "min_token_occurrence_3 = study_cb_t2_opt_text.best_params[\"min_token_occurrence_3\"]\n",
    "\n",
    "# Лучшие параметры для второй задачи\n",
    "params_cb_t2_best = {\n",
    "    **params_init,\n",
    "    **study_cb_t2_best_params,\n",
    "    \"dictionaries\": [\n",
    "        {\n",
    "            \"dictionary_id\": \"Word\",\n",
    "            \"min_token_occurrence \": f\"{min_token_occurrence_1}\",\n",
    "            \"max_dictionary_size\": \"1000000\",\n",
    "            \"gram_order\": \"1\",\n",
    "        },\n",
    "        {\n",
    "            \"dictionary_id\": \"BiGram\",\n",
    "            \"min_token_occurrence \": f\"{min_token_occurrence_2}\",\n",
    "            \"max_dictionary_size\": \"1000000\",\n",
    "            \"gram_order\": \"2\",\n",
    "        },\n",
    "        {\n",
    "            \"dictionary_id\": \"3Gram\",\n",
    "            \"min_token_occurrence \": f\"{min_token_occurrence_3}\",\n",
    "            \"max_dictionary_size\": \"1000000\",\n",
    "            \"gram_order\": \"3\",\n",
    "        },\n",
    "    ],\n",
    "    \"feature_calcers\": [\n",
    "        \"NaiveBayes\",\n",
    "    ],\n",
    "}\n",
    "\n",
    "# Обучение модели\n",
    "cbc_t2_best = CatBoostClassifier(**params_cb_t2_best, verbose=False)\n",
    "\n",
    "cbc_t2_best.fit(train_pool_t2_best)"
   ]
  },
  {
   "cell_type": "code",
   "execution_count": 50,
   "metadata": {},
   "outputs": [
    {
     "data": {
      "text/plain": [
       "0.9687497968388153"
      ]
     },
     "execution_count": 50,
     "metadata": {},
     "output_type": "execute_result"
    }
   ],
   "source": [
    "# Скопируем целевой признак в новый столбец, чтобы сработало обучение для первой задачи.\n",
    "test[\"target_task_2_true\"] = test[\"target_task_2\"]\n",
    "\n",
    "# Предсказания скора для второй задачи\n",
    "test[\"target_task_2\"] = cbc_t2_best.predict(test[X_t2], prediction_type=\"Probability\")[\n",
    "    :, 1\n",
    "]\n",
    "\n",
    "# Расчет метрики\n",
    "average_precision_score(test[\"target_task_2_true\"], test[\"target_task_2\"])"
   ]
  },
  {
   "cell_type": "markdown",
   "metadata": {},
   "source": [
    "Значение на 0,25% выше полученного при кроссвалидации, что говорит о правильности выбранных гиперпараметров."
   ]
  },
  {
   "cell_type": "code",
   "execution_count": 54,
   "metadata": {},
   "outputs": [
    {
     "data": {
      "text/plain": [
       "<catboost.core.CatBoostClassifier at 0x7f911532df40>"
      ]
     },
     "execution_count": 54,
     "metadata": {},
     "output_type": "execute_result"
    }
   ],
   "source": [
    "# Итоговый обучающий пул для второй задачи\n",
    "train_pool_t1_best = Pool(\n",
    "    data=train[X_t1],\n",
    "    label=train[y_1],\n",
    "    text_features=text_features_t1,\n",
    "    cat_features=cat_features_t1,\n",
    ")\n",
    "\n",
    "# Лучшие параметры для первой задачи\n",
    "params_cb_t1_best = {\n",
    "    **params_init,\n",
    "    **study_cb_t1_best_params,\n",
    "}\n",
    "\n",
    "# Обучение модели\n",
    "cbc_t1_best = CatBoostClassifier(**params_cb_t1_best, verbose=False)\n",
    "\n",
    "cbc_t1_best.fit(train_pool_t1_best)"
   ]
  },
  {
   "cell_type": "code",
   "execution_count": 55,
   "metadata": {},
   "outputs": [
    {
     "data": {
      "text/plain": [
       "0.5225873455705196"
      ]
     },
     "execution_count": 55,
     "metadata": {},
     "output_type": "execute_result"
    }
   ],
   "source": [
    "# Предсказания скора для первой задачи\n",
    "test[\"target_task_1_pred\"] = cbc_t1_best.predict(\n",
    "    test[X_t1], prediction_type=\"Probability\"\n",
    ")[:, 1]\n",
    "\n",
    "# Расчет метрики\n",
    "average_precision_score(test[\"target_task_1\"], test[\"target_task_1_pred\"])"
   ]
  },
  {
   "cell_type": "markdown",
   "metadata": {},
   "source": [
    "Значение на 0,4% ниже полученного при кроссвалидации, что говорит о переобучении модели."
   ]
  },
  {
   "cell_type": "markdown",
   "metadata": {
    "id": "9k2GxbnMbdp2"
   },
   "source": [
    "# Заключение"
   ]
  },
  {
   "cell_type": "markdown",
   "metadata": {
    "id": "daxesVxnrSf0"
   },
   "source": [
    "Разработаны модели машинного обучения для разработки сервиса автоматизации труда рекрутеров в части просмотра и оценки резюме. Модели решают две задачи: предсказание факта отклика соискателя с данным резюме на данную вакансию и предсказание факта приглашения работодателем откликнувшегося соискателя на собеседование.\n",
    "\n",
    "Для достижения поставленной цели проведен анализ данных, в ходе которого сделано предположение об искусственной стратификации всего датасета по всем признакам. Это проявляется в том, что по всем признакам распределение целевых признаков практически не изменяется и находится на уровне 50/50 для первой задачи и 90/10 - для второй. \n",
    "\n",
    "В качестве моделей использованы инструменты библиотеки Catboost. \n",
    "Проведен выбор гиперпараметров и анализ важности признаков. \n",
    "В ходе последнего получено, что для обеих задач наибольший вклад в качество предсказания оказывают текстовые признаки. \n",
    "Качество моделей проверено на тестовой подвыборке датасета с использованием метрики PR AUC. \n",
    "Получены следующие значения: \n",
    "- для задачи №1 - 52,25%,  \n",
    "- для задачи №2 - 96,87%.\n",
    "\n",
    "Полученные значения превосходят случайные модели на 2,25% и 46,87% соответственно. \n",
    "В этой связи представляется целесообразным дальнейшие работы по текущему направлению планировать с учетом использования нейронных сетей. "
   ]
  }
 ],
 "metadata": {
  "accelerator": "GPU",
  "colab": {
   "provenance": [],
   "toc_visible": true
  },
  "gpuClass": "standard",
  "kernelspec": {
   "display_name": "Python 3 (ipykernel)",
   "language": "python",
   "name": "python3"
  },
  "language_info": {
   "codemirror_mode": {
    "name": "ipython",
    "version": 3
   },
   "file_extension": ".py",
   "mimetype": "text/x-python",
   "name": "python",
   "nbconvert_exporter": "python",
   "pygments_lexer": "ipython3",
   "version": "3.9.13"
  },
  "toc-autonumbering": true,
  "widgets": {
   "application/vnd.jupyter.widget-state+json": {
    "015ed01dc11f4cc993cf058ba230f81b": {
     "model_module": "@jupyter-widgets/base",
     "model_module_version": "1.2.0",
     "model_name": "LayoutModel",
     "state": {
      "_model_module": "@jupyter-widgets/base",
      "_model_module_version": "1.2.0",
      "_model_name": "LayoutModel",
      "_view_count": null,
      "_view_module": "@jupyter-widgets/base",
      "_view_module_version": "1.2.0",
      "_view_name": "LayoutView",
      "align_content": null,
      "align_items": null,
      "align_self": null,
      "border": null,
      "bottom": null,
      "display": null,
      "flex": null,
      "flex_flow": null,
      "grid_area": null,
      "grid_auto_columns": null,
      "grid_auto_flow": null,
      "grid_auto_rows": null,
      "grid_column": null,
      "grid_gap": null,
      "grid_row": null,
      "grid_template_areas": null,
      "grid_template_columns": null,
      "grid_template_rows": null,
      "height": null,
      "justify_content": null,
      "justify_items": null,
      "left": null,
      "margin": null,
      "max_height": null,
      "max_width": null,
      "min_height": null,
      "min_width": null,
      "object_fit": null,
      "object_position": null,
      "order": null,
      "overflow": null,
      "overflow_x": null,
      "overflow_y": null,
      "padding": null,
      "right": null,
      "top": null,
      "visibility": null,
      "width": null
     }
    },
    "03067073609d43b68dd5a605fa3a5eda": {
     "model_module": "@jupyter-widgets/controls",
     "model_module_version": "1.5.0",
     "model_name": "DescriptionStyleModel",
     "state": {
      "_model_module": "@jupyter-widgets/controls",
      "_model_module_version": "1.5.0",
      "_model_name": "DescriptionStyleModel",
      "_view_count": null,
      "_view_module": "@jupyter-widgets/base",
      "_view_module_version": "1.2.0",
      "_view_name": "StyleView",
      "description_width": ""
     }
    },
    "063ea4e0b5d64daeae6c50cd200ad47b": {
     "model_module": "@jupyter-widgets/controls",
     "model_module_version": "1.5.0",
     "model_name": "DescriptionStyleModel",
     "state": {
      "_model_module": "@jupyter-widgets/controls",
      "_model_module_version": "1.5.0",
      "_model_name": "DescriptionStyleModel",
      "_view_count": null,
      "_view_module": "@jupyter-widgets/base",
      "_view_module_version": "1.2.0",
      "_view_name": "StyleView",
      "description_width": ""
     }
    },
    "06de375508c94ab3a64894b242704a48": {
     "model_module": "@jupyter-widgets/controls",
     "model_module_version": "1.5.0",
     "model_name": "FloatProgressModel",
     "state": {
      "_dom_classes": [],
      "_model_module": "@jupyter-widgets/controls",
      "_model_module_version": "1.5.0",
      "_model_name": "FloatProgressModel",
      "_view_count": null,
      "_view_module": "@jupyter-widgets/controls",
      "_view_module_version": "1.5.0",
      "_view_name": "ProgressView",
      "bar_style": "success",
      "description": "",
      "description_tooltip": null,
      "layout": "IPY_MODEL_541baca4da00435298717dd44bcea506",
      "max": 5,
      "min": 0,
      "orientation": "horizontal",
      "style": "IPY_MODEL_c3b62d79d015478a9e2e537671bdf8e2",
      "value": 5
     }
    },
    "0bcaa77583c2446ba2f85f362b7ab994": {
     "model_module": "@jupyter-widgets/base",
     "model_module_version": "1.2.0",
     "model_name": "LayoutModel",
     "state": {
      "_model_module": "@jupyter-widgets/base",
      "_model_module_version": "1.2.0",
      "_model_name": "LayoutModel",
      "_view_count": null,
      "_view_module": "@jupyter-widgets/base",
      "_view_module_version": "1.2.0",
      "_view_name": "LayoutView",
      "align_content": null,
      "align_items": null,
      "align_self": null,
      "border": null,
      "bottom": null,
      "display": null,
      "flex": null,
      "flex_flow": null,
      "grid_area": null,
      "grid_auto_columns": null,
      "grid_auto_flow": null,
      "grid_auto_rows": null,
      "grid_column": null,
      "grid_gap": null,
      "grid_row": null,
      "grid_template_areas": null,
      "grid_template_columns": null,
      "grid_template_rows": null,
      "height": null,
      "justify_content": null,
      "justify_items": null,
      "left": null,
      "margin": null,
      "max_height": null,
      "max_width": null,
      "min_height": null,
      "min_width": null,
      "object_fit": null,
      "object_position": null,
      "order": null,
      "overflow": null,
      "overflow_x": null,
      "overflow_y": null,
      "padding": null,
      "right": null,
      "top": null,
      "visibility": null,
      "width": null
     }
    },
    "13cea03e3a274592b7ba2285e2aaf4e7": {
     "model_module": "@jupyter-widgets/controls",
     "model_module_version": "1.5.0",
     "model_name": "HTMLModel",
     "state": {
      "_dom_classes": [],
      "_model_module": "@jupyter-widgets/controls",
      "_model_module_version": "1.5.0",
      "_model_name": "HTMLModel",
      "_view_count": null,
      "_view_module": "@jupyter-widgets/controls",
      "_view_module_version": "1.5.0",
      "_view_name": "HTMLView",
      "description": "",
      "description_tooltip": null,
      "layout": "IPY_MODEL_935489ca1503441a8bf847eebefec8ca",
      "placeholder": "​",
      "style": "IPY_MODEL_063ea4e0b5d64daeae6c50cd200ad47b",
      "value": " 5/5 [13:34&lt;00:00, 160.49s/it]"
     }
    },
    "207a911f88df4dc8aca4e1586c52b04d": {
     "model_module": "@jupyter-widgets/controls",
     "model_module_version": "1.5.0",
     "model_name": "HTMLModel",
     "state": {
      "_dom_classes": [],
      "_model_module": "@jupyter-widgets/controls",
      "_model_module_version": "1.5.0",
      "_model_name": "HTMLModel",
      "_view_count": null,
      "_view_module": "@jupyter-widgets/controls",
      "_view_module_version": "1.5.0",
      "_view_name": "HTMLView",
      "description": "",
      "description_tooltip": null,
      "layout": "IPY_MODEL_a0a4d55037184dce96a90b37685c4710",
      "placeholder": "​",
      "style": "IPY_MODEL_81e015ee98a04768af2909b10615721b",
      "value": " 5/5 [12:34&lt;00:00, 149.85s/it]"
     }
    },
    "26f6e0dfc41043cc84e94dd15f1112f1": {
     "model_module": "@jupyter-widgets/base",
     "model_module_version": "1.2.0",
     "model_name": "LayoutModel",
     "state": {
      "_model_module": "@jupyter-widgets/base",
      "_model_module_version": "1.2.0",
      "_model_name": "LayoutModel",
      "_view_count": null,
      "_view_module": "@jupyter-widgets/base",
      "_view_module_version": "1.2.0",
      "_view_name": "LayoutView",
      "align_content": null,
      "align_items": null,
      "align_self": null,
      "border": null,
      "bottom": null,
      "display": null,
      "flex": null,
      "flex_flow": null,
      "grid_area": null,
      "grid_auto_columns": null,
      "grid_auto_flow": null,
      "grid_auto_rows": null,
      "grid_column": null,
      "grid_gap": null,
      "grid_row": null,
      "grid_template_areas": null,
      "grid_template_columns": null,
      "grid_template_rows": null,
      "height": null,
      "justify_content": null,
      "justify_items": null,
      "left": null,
      "margin": null,
      "max_height": null,
      "max_width": null,
      "min_height": null,
      "min_width": null,
      "object_fit": null,
      "object_position": null,
      "order": null,
      "overflow": null,
      "overflow_x": null,
      "overflow_y": null,
      "padding": null,
      "right": null,
      "top": null,
      "visibility": null,
      "width": null
     }
    },
    "2972402b00a54442888a098f366249f7": {
     "model_module": "@jupyter-widgets/controls",
     "model_module_version": "1.5.0",
     "model_name": "FloatProgressModel",
     "state": {
      "_dom_classes": [],
      "_model_module": "@jupyter-widgets/controls",
      "_model_module_version": "1.5.0",
      "_model_name": "FloatProgressModel",
      "_view_count": null,
      "_view_module": "@jupyter-widgets/controls",
      "_view_module_version": "1.5.0",
      "_view_name": "ProgressView",
      "bar_style": "success",
      "description": "",
      "description_tooltip": null,
      "layout": "IPY_MODEL_015ed01dc11f4cc993cf058ba230f81b",
      "max": 29,
      "min": 0,
      "orientation": "horizontal",
      "style": "IPY_MODEL_6a313a5a3510455e98f70a9c9e48c2d4",
      "value": 29
     }
    },
    "2cc851e26d4a4280ab7f96e2ea248bc0": {
     "model_module": "@jupyter-widgets/controls",
     "model_module_version": "1.5.0",
     "model_name": "HBoxModel",
     "state": {
      "_dom_classes": [],
      "_model_module": "@jupyter-widgets/controls",
      "_model_module_version": "1.5.0",
      "_model_name": "HBoxModel",
      "_view_count": null,
      "_view_module": "@jupyter-widgets/controls",
      "_view_module_version": "1.5.0",
      "_view_name": "HBoxView",
      "box_style": "",
      "children": [
       "IPY_MODEL_579df039c9da46b5a62e79c427195f3d",
       "IPY_MODEL_2972402b00a54442888a098f366249f7",
       "IPY_MODEL_705721ec2cb443f8a964e8442bce4371"
      ],
      "layout": "IPY_MODEL_532dada45ca143fe8cb3d544c40c40eb"
     }
    },
    "2fb1000b408a43f8b3424b41b23e6649": {
     "model_module": "@jupyter-widgets/controls",
     "model_module_version": "1.5.0",
     "model_name": "HTMLModel",
     "state": {
      "_dom_classes": [],
      "_model_module": "@jupyter-widgets/controls",
      "_model_module_version": "1.5.0",
      "_model_name": "HTMLModel",
      "_view_count": null,
      "_view_module": "@jupyter-widgets/controls",
      "_view_module_version": "1.5.0",
      "_view_name": "HTMLView",
      "description": "",
      "description_tooltip": null,
      "layout": "IPY_MODEL_f02391ead1dd4e42b56cd7c3d846e34d",
      "placeholder": "​",
      "style": "IPY_MODEL_b254b9236c7642f09d90d18dd7998fe9",
      "value": "100%"
     }
    },
    "302e5a2406bc4ef0b1625b08b8220552": {
     "model_module": "@jupyter-widgets/controls",
     "model_module_version": "1.5.0",
     "model_name": "HBoxModel",
     "state": {
      "_dom_classes": [],
      "_model_module": "@jupyter-widgets/controls",
      "_model_module_version": "1.5.0",
      "_model_name": "HBoxModel",
      "_view_count": null,
      "_view_module": "@jupyter-widgets/controls",
      "_view_module_version": "1.5.0",
      "_view_name": "HBoxView",
      "box_style": "",
      "children": [
       "IPY_MODEL_9b8173bd1e1c466d9eb3fdf5cb17a6f9",
       "IPY_MODEL_ed8043c68fc34a4c9b3fb5e4a20b5425",
       "IPY_MODEL_3b5fb4bb27644ef5998a1c4919b66fdb"
      ],
      "layout": "IPY_MODEL_d9072cc597124e40b726658668a4c547"
     }
    },
    "323f85f17d7c407d9fc38289e8e52a30": {
     "model_module": "@jupyter-widgets/base",
     "model_module_version": "1.2.0",
     "model_name": "LayoutModel",
     "state": {
      "_model_module": "@jupyter-widgets/base",
      "_model_module_version": "1.2.0",
      "_model_name": "LayoutModel",
      "_view_count": null,
      "_view_module": "@jupyter-widgets/base",
      "_view_module_version": "1.2.0",
      "_view_name": "LayoutView",
      "align_content": null,
      "align_items": null,
      "align_self": null,
      "border": null,
      "bottom": null,
      "display": null,
      "flex": null,
      "flex_flow": null,
      "grid_area": null,
      "grid_auto_columns": null,
      "grid_auto_flow": null,
      "grid_auto_rows": null,
      "grid_column": null,
      "grid_gap": null,
      "grid_row": null,
      "grid_template_areas": null,
      "grid_template_columns": null,
      "grid_template_rows": null,
      "height": null,
      "justify_content": null,
      "justify_items": null,
      "left": null,
      "margin": null,
      "max_height": null,
      "max_width": null,
      "min_height": null,
      "min_width": null,
      "object_fit": null,
      "object_position": null,
      "order": null,
      "overflow": null,
      "overflow_x": null,
      "overflow_y": null,
      "padding": null,
      "right": null,
      "top": null,
      "visibility": null,
      "width": null
     }
    },
    "3525c1eca1664f058b9126746a47b82d": {
     "model_module": "@jupyter-widgets/base",
     "model_module_version": "1.2.0",
     "model_name": "LayoutModel",
     "state": {
      "_model_module": "@jupyter-widgets/base",
      "_model_module_version": "1.2.0",
      "_model_name": "LayoutModel",
      "_view_count": null,
      "_view_module": "@jupyter-widgets/base",
      "_view_module_version": "1.2.0",
      "_view_name": "LayoutView",
      "align_content": null,
      "align_items": null,
      "align_self": null,
      "border": null,
      "bottom": null,
      "display": null,
      "flex": null,
      "flex_flow": null,
      "grid_area": null,
      "grid_auto_columns": null,
      "grid_auto_flow": null,
      "grid_auto_rows": null,
      "grid_column": null,
      "grid_gap": null,
      "grid_row": null,
      "grid_template_areas": null,
      "grid_template_columns": null,
      "grid_template_rows": null,
      "height": null,
      "justify_content": null,
      "justify_items": null,
      "left": null,
      "margin": null,
      "max_height": null,
      "max_width": null,
      "min_height": null,
      "min_width": null,
      "object_fit": null,
      "object_position": null,
      "order": null,
      "overflow": null,
      "overflow_x": null,
      "overflow_y": null,
      "padding": null,
      "right": null,
      "top": null,
      "visibility": null,
      "width": null
     }
    },
    "3b5fb4bb27644ef5998a1c4919b66fdb": {
     "model_module": "@jupyter-widgets/controls",
     "model_module_version": "1.5.0",
     "model_name": "HTMLModel",
     "state": {
      "_dom_classes": [],
      "_model_module": "@jupyter-widgets/controls",
      "_model_module_version": "1.5.0",
      "_model_name": "HTMLModel",
      "_view_count": null,
      "_view_module": "@jupyter-widgets/controls",
      "_view_module_version": "1.5.0",
      "_view_name": "HTMLView",
      "description": "",
      "description_tooltip": null,
      "layout": "IPY_MODEL_3fdbc1e95260487fb8ec51fdaf700044",
      "placeholder": "​",
      "style": "IPY_MODEL_fbb6c164463b4804accf8c48d7135caa",
      "value": " 29/29 [35:59&lt;00:00, 73.48s/it]"
     }
    },
    "3fdbc1e95260487fb8ec51fdaf700044": {
     "model_module": "@jupyter-widgets/base",
     "model_module_version": "1.2.0",
     "model_name": "LayoutModel",
     "state": {
      "_model_module": "@jupyter-widgets/base",
      "_model_module_version": "1.2.0",
      "_model_name": "LayoutModel",
      "_view_count": null,
      "_view_module": "@jupyter-widgets/base",
      "_view_module_version": "1.2.0",
      "_view_name": "LayoutView",
      "align_content": null,
      "align_items": null,
      "align_self": null,
      "border": null,
      "bottom": null,
      "display": null,
      "flex": null,
      "flex_flow": null,
      "grid_area": null,
      "grid_auto_columns": null,
      "grid_auto_flow": null,
      "grid_auto_rows": null,
      "grid_column": null,
      "grid_gap": null,
      "grid_row": null,
      "grid_template_areas": null,
      "grid_template_columns": null,
      "grid_template_rows": null,
      "height": null,
      "justify_content": null,
      "justify_items": null,
      "left": null,
      "margin": null,
      "max_height": null,
      "max_width": null,
      "min_height": null,
      "min_width": null,
      "object_fit": null,
      "object_position": null,
      "order": null,
      "overflow": null,
      "overflow_x": null,
      "overflow_y": null,
      "padding": null,
      "right": null,
      "top": null,
      "visibility": null,
      "width": null
     }
    },
    "532dada45ca143fe8cb3d544c40c40eb": {
     "model_module": "@jupyter-widgets/base",
     "model_module_version": "1.2.0",
     "model_name": "LayoutModel",
     "state": {
      "_model_module": "@jupyter-widgets/base",
      "_model_module_version": "1.2.0",
      "_model_name": "LayoutModel",
      "_view_count": null,
      "_view_module": "@jupyter-widgets/base",
      "_view_module_version": "1.2.0",
      "_view_name": "LayoutView",
      "align_content": null,
      "align_items": null,
      "align_self": null,
      "border": null,
      "bottom": null,
      "display": null,
      "flex": null,
      "flex_flow": null,
      "grid_area": null,
      "grid_auto_columns": null,
      "grid_auto_flow": null,
      "grid_auto_rows": null,
      "grid_column": null,
      "grid_gap": null,
      "grid_row": null,
      "grid_template_areas": null,
      "grid_template_columns": null,
      "grid_template_rows": null,
      "height": null,
      "justify_content": null,
      "justify_items": null,
      "left": null,
      "margin": null,
      "max_height": null,
      "max_width": null,
      "min_height": null,
      "min_width": null,
      "object_fit": null,
      "object_position": null,
      "order": null,
      "overflow": null,
      "overflow_x": null,
      "overflow_y": null,
      "padding": null,
      "right": null,
      "top": null,
      "visibility": null,
      "width": null
     }
    },
    "53a62995c8c342278716f22ff4152fc1": {
     "model_module": "@jupyter-widgets/controls",
     "model_module_version": "1.5.0",
     "model_name": "FloatProgressModel",
     "state": {
      "_dom_classes": [],
      "_model_module": "@jupyter-widgets/controls",
      "_model_module_version": "1.5.0",
      "_model_name": "FloatProgressModel",
      "_view_count": null,
      "_view_module": "@jupyter-widgets/controls",
      "_view_module_version": "1.5.0",
      "_view_name": "ProgressView",
      "bar_style": "success",
      "description": "",
      "description_tooltip": null,
      "layout": "IPY_MODEL_a0999bc67d6042f1bfea52c7aa2d1d8b",
      "max": 5,
      "min": 0,
      "orientation": "horizontal",
      "style": "IPY_MODEL_60ff83462aef4b8893cad0107f43473d",
      "value": 5
     }
    },
    "541baca4da00435298717dd44bcea506": {
     "model_module": "@jupyter-widgets/base",
     "model_module_version": "1.2.0",
     "model_name": "LayoutModel",
     "state": {
      "_model_module": "@jupyter-widgets/base",
      "_model_module_version": "1.2.0",
      "_model_name": "LayoutModel",
      "_view_count": null,
      "_view_module": "@jupyter-widgets/base",
      "_view_module_version": "1.2.0",
      "_view_name": "LayoutView",
      "align_content": null,
      "align_items": null,
      "align_self": null,
      "border": null,
      "bottom": null,
      "display": null,
      "flex": null,
      "flex_flow": null,
      "grid_area": null,
      "grid_auto_columns": null,
      "grid_auto_flow": null,
      "grid_auto_rows": null,
      "grid_column": null,
      "grid_gap": null,
      "grid_row": null,
      "grid_template_areas": null,
      "grid_template_columns": null,
      "grid_template_rows": null,
      "height": null,
      "justify_content": null,
      "justify_items": null,
      "left": null,
      "margin": null,
      "max_height": null,
      "max_width": null,
      "min_height": null,
      "min_width": null,
      "object_fit": null,
      "object_position": null,
      "order": null,
      "overflow": null,
      "overflow_x": null,
      "overflow_y": null,
      "padding": null,
      "right": null,
      "top": null,
      "visibility": null,
      "width": null
     }
    },
    "545fdac5ec514dcea0f80fd34a4f4c17": {
     "model_module": "@jupyter-widgets/controls",
     "model_module_version": "1.5.0",
     "model_name": "ProgressStyleModel",
     "state": {
      "_model_module": "@jupyter-widgets/controls",
      "_model_module_version": "1.5.0",
      "_model_name": "ProgressStyleModel",
      "_view_count": null,
      "_view_module": "@jupyter-widgets/base",
      "_view_module_version": "1.2.0",
      "_view_name": "StyleView",
      "bar_color": null,
      "description_width": ""
     }
    },
    "579df039c9da46b5a62e79c427195f3d": {
     "model_module": "@jupyter-widgets/controls",
     "model_module_version": "1.5.0",
     "model_name": "HTMLModel",
     "state": {
      "_dom_classes": [],
      "_model_module": "@jupyter-widgets/controls",
      "_model_module_version": "1.5.0",
      "_model_name": "HTMLModel",
      "_view_count": null,
      "_view_module": "@jupyter-widgets/controls",
      "_view_module_version": "1.5.0",
      "_view_name": "HTMLView",
      "description": "",
      "description_tooltip": null,
      "layout": "IPY_MODEL_96250a461fdb40b4851db80da475a72a",
      "placeholder": "​",
      "style": "IPY_MODEL_977ea2e8695d4ec2bc34465b14b0206a",
      "value": "100%"
     }
    },
    "592922b269e548f6986838ac787dfc54": {
     "model_module": "@jupyter-widgets/base",
     "model_module_version": "1.2.0",
     "model_name": "LayoutModel",
     "state": {
      "_model_module": "@jupyter-widgets/base",
      "_model_module_version": "1.2.0",
      "_model_name": "LayoutModel",
      "_view_count": null,
      "_view_module": "@jupyter-widgets/base",
      "_view_module_version": "1.2.0",
      "_view_name": "LayoutView",
      "align_content": null,
      "align_items": null,
      "align_self": null,
      "border": null,
      "bottom": null,
      "display": null,
      "flex": null,
      "flex_flow": null,
      "grid_area": null,
      "grid_auto_columns": null,
      "grid_auto_flow": null,
      "grid_auto_rows": null,
      "grid_column": null,
      "grid_gap": null,
      "grid_row": null,
      "grid_template_areas": null,
      "grid_template_columns": null,
      "grid_template_rows": null,
      "height": null,
      "justify_content": null,
      "justify_items": null,
      "left": null,
      "margin": null,
      "max_height": null,
      "max_width": null,
      "min_height": null,
      "min_width": null,
      "object_fit": null,
      "object_position": null,
      "order": null,
      "overflow": null,
      "overflow_x": null,
      "overflow_y": null,
      "padding": null,
      "right": null,
      "top": null,
      "visibility": null,
      "width": null
     }
    },
    "592cdf5b9242440c981f82e3d184a9ed": {
     "model_module": "@jupyter-widgets/controls",
     "model_module_version": "1.5.0",
     "model_name": "DescriptionStyleModel",
     "state": {
      "_model_module": "@jupyter-widgets/controls",
      "_model_module_version": "1.5.0",
      "_model_name": "DescriptionStyleModel",
      "_view_count": null,
      "_view_module": "@jupyter-widgets/base",
      "_view_module_version": "1.2.0",
      "_view_name": "StyleView",
      "description_width": ""
     }
    },
    "5b03974f9cde4c1fb634eff8ec64e60f": {
     "model_module": "@jupyter-widgets/controls",
     "model_module_version": "1.5.0",
     "model_name": "DescriptionStyleModel",
     "state": {
      "_model_module": "@jupyter-widgets/controls",
      "_model_module_version": "1.5.0",
      "_model_name": "DescriptionStyleModel",
      "_view_count": null,
      "_view_module": "@jupyter-widgets/base",
      "_view_module_version": "1.2.0",
      "_view_name": "StyleView",
      "description_width": ""
     }
    },
    "60ff83462aef4b8893cad0107f43473d": {
     "model_module": "@jupyter-widgets/controls",
     "model_module_version": "1.5.0",
     "model_name": "ProgressStyleModel",
     "state": {
      "_model_module": "@jupyter-widgets/controls",
      "_model_module_version": "1.5.0",
      "_model_name": "ProgressStyleModel",
      "_view_count": null,
      "_view_module": "@jupyter-widgets/base",
      "_view_module_version": "1.2.0",
      "_view_name": "StyleView",
      "bar_color": null,
      "description_width": ""
     }
    },
    "6a313a5a3510455e98f70a9c9e48c2d4": {
     "model_module": "@jupyter-widgets/controls",
     "model_module_version": "1.5.0",
     "model_name": "ProgressStyleModel",
     "state": {
      "_model_module": "@jupyter-widgets/controls",
      "_model_module_version": "1.5.0",
      "_model_name": "ProgressStyleModel",
      "_view_count": null,
      "_view_module": "@jupyter-widgets/base",
      "_view_module_version": "1.2.0",
      "_view_name": "StyleView",
      "bar_color": null,
      "description_width": ""
     }
    },
    "705721ec2cb443f8a964e8442bce4371": {
     "model_module": "@jupyter-widgets/controls",
     "model_module_version": "1.5.0",
     "model_name": "HTMLModel",
     "state": {
      "_dom_classes": [],
      "_model_module": "@jupyter-widgets/controls",
      "_model_module_version": "1.5.0",
      "_model_name": "HTMLModel",
      "_view_count": null,
      "_view_module": "@jupyter-widgets/controls",
      "_view_module_version": "1.5.0",
      "_view_name": "HTMLView",
      "description": "",
      "description_tooltip": null,
      "layout": "IPY_MODEL_26f6e0dfc41043cc84e94dd15f1112f1",
      "placeholder": "​",
      "style": "IPY_MODEL_e67214d1e5394e4e9c2e73fa9f247663",
      "value": " 29/29 [01:17&lt;00:00,  2.73s/it]"
     }
    },
    "7d09bd20bb6248e8aa0299e84a42c5dc": {
     "model_module": "@jupyter-widgets/controls",
     "model_module_version": "1.5.0",
     "model_name": "HBoxModel",
     "state": {
      "_dom_classes": [],
      "_model_module": "@jupyter-widgets/controls",
      "_model_module_version": "1.5.0",
      "_model_name": "HBoxModel",
      "_view_count": null,
      "_view_module": "@jupyter-widgets/controls",
      "_view_module_version": "1.5.0",
      "_view_name": "HBoxView",
      "box_style": "",
      "children": [
       "IPY_MODEL_eeacbe8365624f17af559e5d9321d9db",
       "IPY_MODEL_ac9d8daf16da4735b0b89181e61ec027",
       "IPY_MODEL_977f2398ffbd48708e2c74822c79a597"
      ],
      "layout": "IPY_MODEL_0bcaa77583c2446ba2f85f362b7ab994"
     }
    },
    "7df90d8c929b49a982b72b8098cf3af0": {
     "model_module": "@jupyter-widgets/base",
     "model_module_version": "1.2.0",
     "model_name": "LayoutModel",
     "state": {
      "_model_module": "@jupyter-widgets/base",
      "_model_module_version": "1.2.0",
      "_model_name": "LayoutModel",
      "_view_count": null,
      "_view_module": "@jupyter-widgets/base",
      "_view_module_version": "1.2.0",
      "_view_name": "LayoutView",
      "align_content": null,
      "align_items": null,
      "align_self": null,
      "border": null,
      "bottom": null,
      "display": null,
      "flex": null,
      "flex_flow": null,
      "grid_area": null,
      "grid_auto_columns": null,
      "grid_auto_flow": null,
      "grid_auto_rows": null,
      "grid_column": null,
      "grid_gap": null,
      "grid_row": null,
      "grid_template_areas": null,
      "grid_template_columns": null,
      "grid_template_rows": null,
      "height": null,
      "justify_content": null,
      "justify_items": null,
      "left": null,
      "margin": null,
      "max_height": null,
      "max_width": null,
      "min_height": null,
      "min_width": null,
      "object_fit": null,
      "object_position": null,
      "order": null,
      "overflow": null,
      "overflow_x": null,
      "overflow_y": null,
      "padding": null,
      "right": null,
      "top": null,
      "visibility": null,
      "width": null
     }
    },
    "81e015ee98a04768af2909b10615721b": {
     "model_module": "@jupyter-widgets/controls",
     "model_module_version": "1.5.0",
     "model_name": "DescriptionStyleModel",
     "state": {
      "_model_module": "@jupyter-widgets/controls",
      "_model_module_version": "1.5.0",
      "_model_name": "DescriptionStyleModel",
      "_view_count": null,
      "_view_module": "@jupyter-widgets/base",
      "_view_module_version": "1.2.0",
      "_view_name": "StyleView",
      "description_width": ""
     }
    },
    "935489ca1503441a8bf847eebefec8ca": {
     "model_module": "@jupyter-widgets/base",
     "model_module_version": "1.2.0",
     "model_name": "LayoutModel",
     "state": {
      "_model_module": "@jupyter-widgets/base",
      "_model_module_version": "1.2.0",
      "_model_name": "LayoutModel",
      "_view_count": null,
      "_view_module": "@jupyter-widgets/base",
      "_view_module_version": "1.2.0",
      "_view_name": "LayoutView",
      "align_content": null,
      "align_items": null,
      "align_self": null,
      "border": null,
      "bottom": null,
      "display": null,
      "flex": null,
      "flex_flow": null,
      "grid_area": null,
      "grid_auto_columns": null,
      "grid_auto_flow": null,
      "grid_auto_rows": null,
      "grid_column": null,
      "grid_gap": null,
      "grid_row": null,
      "grid_template_areas": null,
      "grid_template_columns": null,
      "grid_template_rows": null,
      "height": null,
      "justify_content": null,
      "justify_items": null,
      "left": null,
      "margin": null,
      "max_height": null,
      "max_width": null,
      "min_height": null,
      "min_width": null,
      "object_fit": null,
      "object_position": null,
      "order": null,
      "overflow": null,
      "overflow_x": null,
      "overflow_y": null,
      "padding": null,
      "right": null,
      "top": null,
      "visibility": null,
      "width": null
     }
    },
    "96250a461fdb40b4851db80da475a72a": {
     "model_module": "@jupyter-widgets/base",
     "model_module_version": "1.2.0",
     "model_name": "LayoutModel",
     "state": {
      "_model_module": "@jupyter-widgets/base",
      "_model_module_version": "1.2.0",
      "_model_name": "LayoutModel",
      "_view_count": null,
      "_view_module": "@jupyter-widgets/base",
      "_view_module_version": "1.2.0",
      "_view_name": "LayoutView",
      "align_content": null,
      "align_items": null,
      "align_self": null,
      "border": null,
      "bottom": null,
      "display": null,
      "flex": null,
      "flex_flow": null,
      "grid_area": null,
      "grid_auto_columns": null,
      "grid_auto_flow": null,
      "grid_auto_rows": null,
      "grid_column": null,
      "grid_gap": null,
      "grid_row": null,
      "grid_template_areas": null,
      "grid_template_columns": null,
      "grid_template_rows": null,
      "height": null,
      "justify_content": null,
      "justify_items": null,
      "left": null,
      "margin": null,
      "max_height": null,
      "max_width": null,
      "min_height": null,
      "min_width": null,
      "object_fit": null,
      "object_position": null,
      "order": null,
      "overflow": null,
      "overflow_x": null,
      "overflow_y": null,
      "padding": null,
      "right": null,
      "top": null,
      "visibility": null,
      "width": null
     }
    },
    "977ea2e8695d4ec2bc34465b14b0206a": {
     "model_module": "@jupyter-widgets/controls",
     "model_module_version": "1.5.0",
     "model_name": "DescriptionStyleModel",
     "state": {
      "_model_module": "@jupyter-widgets/controls",
      "_model_module_version": "1.5.0",
      "_model_name": "DescriptionStyleModel",
      "_view_count": null,
      "_view_module": "@jupyter-widgets/base",
      "_view_module_version": "1.2.0",
      "_view_name": "StyleView",
      "description_width": ""
     }
    },
    "977f2398ffbd48708e2c74822c79a597": {
     "model_module": "@jupyter-widgets/controls",
     "model_module_version": "1.5.0",
     "model_name": "HTMLModel",
     "state": {
      "_dom_classes": [],
      "_model_module": "@jupyter-widgets/controls",
      "_model_module_version": "1.5.0",
      "_model_name": "HTMLModel",
      "_view_count": null,
      "_view_module": "@jupyter-widgets/controls",
      "_view_module_version": "1.5.0",
      "_view_name": "HTMLView",
      "description": "",
      "description_tooltip": null,
      "layout": "IPY_MODEL_d3505516d0ba42d2a1280fdf52abded9",
      "placeholder": "​",
      "style": "IPY_MODEL_b689a8c90c044223822f8fb217d59831",
      "value": " 29/29 [01:00&lt;00:00,  2.08s/it]"
     }
    },
    "9b8173bd1e1c466d9eb3fdf5cb17a6f9": {
     "model_module": "@jupyter-widgets/controls",
     "model_module_version": "1.5.0",
     "model_name": "HTMLModel",
     "state": {
      "_dom_classes": [],
      "_model_module": "@jupyter-widgets/controls",
      "_model_module_version": "1.5.0",
      "_model_name": "HTMLModel",
      "_view_count": null,
      "_view_module": "@jupyter-widgets/controls",
      "_view_module_version": "1.5.0",
      "_view_name": "HTMLView",
      "description": "",
      "description_tooltip": null,
      "layout": "IPY_MODEL_323f85f17d7c407d9fc38289e8e52a30",
      "placeholder": "​",
      "style": "IPY_MODEL_592cdf5b9242440c981f82e3d184a9ed",
      "value": "100%"
     }
    },
    "a0999bc67d6042f1bfea52c7aa2d1d8b": {
     "model_module": "@jupyter-widgets/base",
     "model_module_version": "1.2.0",
     "model_name": "LayoutModel",
     "state": {
      "_model_module": "@jupyter-widgets/base",
      "_model_module_version": "1.2.0",
      "_model_name": "LayoutModel",
      "_view_count": null,
      "_view_module": "@jupyter-widgets/base",
      "_view_module_version": "1.2.0",
      "_view_name": "LayoutView",
      "align_content": null,
      "align_items": null,
      "align_self": null,
      "border": null,
      "bottom": null,
      "display": null,
      "flex": null,
      "flex_flow": null,
      "grid_area": null,
      "grid_auto_columns": null,
      "grid_auto_flow": null,
      "grid_auto_rows": null,
      "grid_column": null,
      "grid_gap": null,
      "grid_row": null,
      "grid_template_areas": null,
      "grid_template_columns": null,
      "grid_template_rows": null,
      "height": null,
      "justify_content": null,
      "justify_items": null,
      "left": null,
      "margin": null,
      "max_height": null,
      "max_width": null,
      "min_height": null,
      "min_width": null,
      "object_fit": null,
      "object_position": null,
      "order": null,
      "overflow": null,
      "overflow_x": null,
      "overflow_y": null,
      "padding": null,
      "right": null,
      "top": null,
      "visibility": null,
      "width": null
     }
    },
    "a0a4d55037184dce96a90b37685c4710": {
     "model_module": "@jupyter-widgets/base",
     "model_module_version": "1.2.0",
     "model_name": "LayoutModel",
     "state": {
      "_model_module": "@jupyter-widgets/base",
      "_model_module_version": "1.2.0",
      "_model_name": "LayoutModel",
      "_view_count": null,
      "_view_module": "@jupyter-widgets/base",
      "_view_module_version": "1.2.0",
      "_view_name": "LayoutView",
      "align_content": null,
      "align_items": null,
      "align_self": null,
      "border": null,
      "bottom": null,
      "display": null,
      "flex": null,
      "flex_flow": null,
      "grid_area": null,
      "grid_auto_columns": null,
      "grid_auto_flow": null,
      "grid_auto_rows": null,
      "grid_column": null,
      "grid_gap": null,
      "grid_row": null,
      "grid_template_areas": null,
      "grid_template_columns": null,
      "grid_template_rows": null,
      "height": null,
      "justify_content": null,
      "justify_items": null,
      "left": null,
      "margin": null,
      "max_height": null,
      "max_width": null,
      "min_height": null,
      "min_width": null,
      "object_fit": null,
      "object_position": null,
      "order": null,
      "overflow": null,
      "overflow_x": null,
      "overflow_y": null,
      "padding": null,
      "right": null,
      "top": null,
      "visibility": null,
      "width": null
     }
    },
    "a0b41874d66e4926b41a3fe9d888a35b": {
     "model_module": "@jupyter-widgets/controls",
     "model_module_version": "1.5.0",
     "model_name": "HTMLModel",
     "state": {
      "_dom_classes": [],
      "_model_module": "@jupyter-widgets/controls",
      "_model_module_version": "1.5.0",
      "_model_name": "HTMLModel",
      "_view_count": null,
      "_view_module": "@jupyter-widgets/controls",
      "_view_module_version": "1.5.0",
      "_view_name": "HTMLView",
      "description": "",
      "description_tooltip": null,
      "layout": "IPY_MODEL_592922b269e548f6986838ac787dfc54",
      "placeholder": "​",
      "style": "IPY_MODEL_03067073609d43b68dd5a605fa3a5eda",
      "value": "100%"
     }
    },
    "ac9d8daf16da4735b0b89181e61ec027": {
     "model_module": "@jupyter-widgets/controls",
     "model_module_version": "1.5.0",
     "model_name": "FloatProgressModel",
     "state": {
      "_dom_classes": [],
      "_model_module": "@jupyter-widgets/controls",
      "_model_module_version": "1.5.0",
      "_model_name": "FloatProgressModel",
      "_view_count": null,
      "_view_module": "@jupyter-widgets/controls",
      "_view_module_version": "1.5.0",
      "_view_name": "ProgressView",
      "bar_style": "success",
      "description": "",
      "description_tooltip": null,
      "layout": "IPY_MODEL_3525c1eca1664f058b9126746a47b82d",
      "max": 29,
      "min": 0,
      "orientation": "horizontal",
      "style": "IPY_MODEL_ec38c491692142158dd9baea3927e96d",
      "value": 29
     }
    },
    "b254b9236c7642f09d90d18dd7998fe9": {
     "model_module": "@jupyter-widgets/controls",
     "model_module_version": "1.5.0",
     "model_name": "DescriptionStyleModel",
     "state": {
      "_model_module": "@jupyter-widgets/controls",
      "_model_module_version": "1.5.0",
      "_model_name": "DescriptionStyleModel",
      "_view_count": null,
      "_view_module": "@jupyter-widgets/base",
      "_view_module_version": "1.2.0",
      "_view_name": "StyleView",
      "description_width": ""
     }
    },
    "b689a8c90c044223822f8fb217d59831": {
     "model_module": "@jupyter-widgets/controls",
     "model_module_version": "1.5.0",
     "model_name": "DescriptionStyleModel",
     "state": {
      "_model_module": "@jupyter-widgets/controls",
      "_model_module_version": "1.5.0",
      "_model_name": "DescriptionStyleModel",
      "_view_count": null,
      "_view_module": "@jupyter-widgets/base",
      "_view_module_version": "1.2.0",
      "_view_name": "StyleView",
      "description_width": ""
     }
    },
    "bdea242f6dd94ebdb9251151ddd05647": {
     "model_module": "@jupyter-widgets/base",
     "model_module_version": "1.2.0",
     "model_name": "LayoutModel",
     "state": {
      "_model_module": "@jupyter-widgets/base",
      "_model_module_version": "1.2.0",
      "_model_name": "LayoutModel",
      "_view_count": null,
      "_view_module": "@jupyter-widgets/base",
      "_view_module_version": "1.2.0",
      "_view_name": "LayoutView",
      "align_content": null,
      "align_items": null,
      "align_self": null,
      "border": null,
      "bottom": null,
      "display": null,
      "flex": null,
      "flex_flow": null,
      "grid_area": null,
      "grid_auto_columns": null,
      "grid_auto_flow": null,
      "grid_auto_rows": null,
      "grid_column": null,
      "grid_gap": null,
      "grid_row": null,
      "grid_template_areas": null,
      "grid_template_columns": null,
      "grid_template_rows": null,
      "height": null,
      "justify_content": null,
      "justify_items": null,
      "left": null,
      "margin": null,
      "max_height": null,
      "max_width": null,
      "min_height": null,
      "min_width": null,
      "object_fit": null,
      "object_position": null,
      "order": null,
      "overflow": null,
      "overflow_x": null,
      "overflow_y": null,
      "padding": null,
      "right": null,
      "top": null,
      "visibility": null,
      "width": null
     }
    },
    "c3b62d79d015478a9e2e537671bdf8e2": {
     "model_module": "@jupyter-widgets/controls",
     "model_module_version": "1.5.0",
     "model_name": "ProgressStyleModel",
     "state": {
      "_model_module": "@jupyter-widgets/controls",
      "_model_module_version": "1.5.0",
      "_model_name": "ProgressStyleModel",
      "_view_count": null,
      "_view_module": "@jupyter-widgets/base",
      "_view_module_version": "1.2.0",
      "_view_name": "StyleView",
      "bar_color": null,
      "description_width": ""
     }
    },
    "c5361808e94749b18130f82836d5f42b": {
     "model_module": "@jupyter-widgets/controls",
     "model_module_version": "1.5.0",
     "model_name": "HBoxModel",
     "state": {
      "_dom_classes": [],
      "_model_module": "@jupyter-widgets/controls",
      "_model_module_version": "1.5.0",
      "_model_name": "HBoxModel",
      "_view_count": null,
      "_view_module": "@jupyter-widgets/controls",
      "_view_module_version": "1.5.0",
      "_view_name": "HBoxView",
      "box_style": "",
      "children": [
       "IPY_MODEL_2fb1000b408a43f8b3424b41b23e6649",
       "IPY_MODEL_53a62995c8c342278716f22ff4152fc1",
       "IPY_MODEL_207a911f88df4dc8aca4e1586c52b04d"
      ],
      "layout": "IPY_MODEL_db83cfbc44074181aae63915249181f9"
     }
    },
    "ccb81af0b6d1441980caa698ec18854e": {
     "model_module": "@jupyter-widgets/controls",
     "model_module_version": "1.5.0",
     "model_name": "HBoxModel",
     "state": {
      "_dom_classes": [],
      "_model_module": "@jupyter-widgets/controls",
      "_model_module_version": "1.5.0",
      "_model_name": "HBoxModel",
      "_view_count": null,
      "_view_module": "@jupyter-widgets/controls",
      "_view_module_version": "1.5.0",
      "_view_name": "HBoxView",
      "box_style": "",
      "children": [
       "IPY_MODEL_a0b41874d66e4926b41a3fe9d888a35b",
       "IPY_MODEL_06de375508c94ab3a64894b242704a48",
       "IPY_MODEL_13cea03e3a274592b7ba2285e2aaf4e7"
      ],
      "layout": "IPY_MODEL_bdea242f6dd94ebdb9251151ddd05647"
     }
    },
    "d3505516d0ba42d2a1280fdf52abded9": {
     "model_module": "@jupyter-widgets/base",
     "model_module_version": "1.2.0",
     "model_name": "LayoutModel",
     "state": {
      "_model_module": "@jupyter-widgets/base",
      "_model_module_version": "1.2.0",
      "_model_name": "LayoutModel",
      "_view_count": null,
      "_view_module": "@jupyter-widgets/base",
      "_view_module_version": "1.2.0",
      "_view_name": "LayoutView",
      "align_content": null,
      "align_items": null,
      "align_self": null,
      "border": null,
      "bottom": null,
      "display": null,
      "flex": null,
      "flex_flow": null,
      "grid_area": null,
      "grid_auto_columns": null,
      "grid_auto_flow": null,
      "grid_auto_rows": null,
      "grid_column": null,
      "grid_gap": null,
      "grid_row": null,
      "grid_template_areas": null,
      "grid_template_columns": null,
      "grid_template_rows": null,
      "height": null,
      "justify_content": null,
      "justify_items": null,
      "left": null,
      "margin": null,
      "max_height": null,
      "max_width": null,
      "min_height": null,
      "min_width": null,
      "object_fit": null,
      "object_position": null,
      "order": null,
      "overflow": null,
      "overflow_x": null,
      "overflow_y": null,
      "padding": null,
      "right": null,
      "top": null,
      "visibility": null,
      "width": null
     }
    },
    "d5a183fe4f8c42bdb10a24f707543034": {
     "model_module": "@jupyter-widgets/base",
     "model_module_version": "1.2.0",
     "model_name": "LayoutModel",
     "state": {
      "_model_module": "@jupyter-widgets/base",
      "_model_module_version": "1.2.0",
      "_model_name": "LayoutModel",
      "_view_count": null,
      "_view_module": "@jupyter-widgets/base",
      "_view_module_version": "1.2.0",
      "_view_name": "LayoutView",
      "align_content": null,
      "align_items": null,
      "align_self": null,
      "border": null,
      "bottom": null,
      "display": null,
      "flex": null,
      "flex_flow": null,
      "grid_area": null,
      "grid_auto_columns": null,
      "grid_auto_flow": null,
      "grid_auto_rows": null,
      "grid_column": null,
      "grid_gap": null,
      "grid_row": null,
      "grid_template_areas": null,
      "grid_template_columns": null,
      "grid_template_rows": null,
      "height": null,
      "justify_content": null,
      "justify_items": null,
      "left": null,
      "margin": null,
      "max_height": null,
      "max_width": null,
      "min_height": null,
      "min_width": null,
      "object_fit": null,
      "object_position": null,
      "order": null,
      "overflow": null,
      "overflow_x": null,
      "overflow_y": null,
      "padding": null,
      "right": null,
      "top": null,
      "visibility": null,
      "width": null
     }
    },
    "d9072cc597124e40b726658668a4c547": {
     "model_module": "@jupyter-widgets/base",
     "model_module_version": "1.2.0",
     "model_name": "LayoutModel",
     "state": {
      "_model_module": "@jupyter-widgets/base",
      "_model_module_version": "1.2.0",
      "_model_name": "LayoutModel",
      "_view_count": null,
      "_view_module": "@jupyter-widgets/base",
      "_view_module_version": "1.2.0",
      "_view_name": "LayoutView",
      "align_content": null,
      "align_items": null,
      "align_self": null,
      "border": null,
      "bottom": null,
      "display": null,
      "flex": null,
      "flex_flow": null,
      "grid_area": null,
      "grid_auto_columns": null,
      "grid_auto_flow": null,
      "grid_auto_rows": null,
      "grid_column": null,
      "grid_gap": null,
      "grid_row": null,
      "grid_template_areas": null,
      "grid_template_columns": null,
      "grid_template_rows": null,
      "height": null,
      "justify_content": null,
      "justify_items": null,
      "left": null,
      "margin": null,
      "max_height": null,
      "max_width": null,
      "min_height": null,
      "min_width": null,
      "object_fit": null,
      "object_position": null,
      "order": null,
      "overflow": null,
      "overflow_x": null,
      "overflow_y": null,
      "padding": null,
      "right": null,
      "top": null,
      "visibility": null,
      "width": null
     }
    },
    "db83cfbc44074181aae63915249181f9": {
     "model_module": "@jupyter-widgets/base",
     "model_module_version": "1.2.0",
     "model_name": "LayoutModel",
     "state": {
      "_model_module": "@jupyter-widgets/base",
      "_model_module_version": "1.2.0",
      "_model_name": "LayoutModel",
      "_view_count": null,
      "_view_module": "@jupyter-widgets/base",
      "_view_module_version": "1.2.0",
      "_view_name": "LayoutView",
      "align_content": null,
      "align_items": null,
      "align_self": null,
      "border": null,
      "bottom": null,
      "display": null,
      "flex": null,
      "flex_flow": null,
      "grid_area": null,
      "grid_auto_columns": null,
      "grid_auto_flow": null,
      "grid_auto_rows": null,
      "grid_column": null,
      "grid_gap": null,
      "grid_row": null,
      "grid_template_areas": null,
      "grid_template_columns": null,
      "grid_template_rows": null,
      "height": null,
      "justify_content": null,
      "justify_items": null,
      "left": null,
      "margin": null,
      "max_height": null,
      "max_width": null,
      "min_height": null,
      "min_width": null,
      "object_fit": null,
      "object_position": null,
      "order": null,
      "overflow": null,
      "overflow_x": null,
      "overflow_y": null,
      "padding": null,
      "right": null,
      "top": null,
      "visibility": null,
      "width": null
     }
    },
    "e67214d1e5394e4e9c2e73fa9f247663": {
     "model_module": "@jupyter-widgets/controls",
     "model_module_version": "1.5.0",
     "model_name": "DescriptionStyleModel",
     "state": {
      "_model_module": "@jupyter-widgets/controls",
      "_model_module_version": "1.5.0",
      "_model_name": "DescriptionStyleModel",
      "_view_count": null,
      "_view_module": "@jupyter-widgets/base",
      "_view_module_version": "1.2.0",
      "_view_name": "StyleView",
      "description_width": ""
     }
    },
    "ec38c491692142158dd9baea3927e96d": {
     "model_module": "@jupyter-widgets/controls",
     "model_module_version": "1.5.0",
     "model_name": "ProgressStyleModel",
     "state": {
      "_model_module": "@jupyter-widgets/controls",
      "_model_module_version": "1.5.0",
      "_model_name": "ProgressStyleModel",
      "_view_count": null,
      "_view_module": "@jupyter-widgets/base",
      "_view_module_version": "1.2.0",
      "_view_name": "StyleView",
      "bar_color": null,
      "description_width": ""
     }
    },
    "ed8043c68fc34a4c9b3fb5e4a20b5425": {
     "model_module": "@jupyter-widgets/controls",
     "model_module_version": "1.5.0",
     "model_name": "FloatProgressModel",
     "state": {
      "_dom_classes": [],
      "_model_module": "@jupyter-widgets/controls",
      "_model_module_version": "1.5.0",
      "_model_name": "FloatProgressModel",
      "_view_count": null,
      "_view_module": "@jupyter-widgets/controls",
      "_view_module_version": "1.5.0",
      "_view_name": "ProgressView",
      "bar_style": "success",
      "description": "",
      "description_tooltip": null,
      "layout": "IPY_MODEL_d5a183fe4f8c42bdb10a24f707543034",
      "max": 29,
      "min": 0,
      "orientation": "horizontal",
      "style": "IPY_MODEL_545fdac5ec514dcea0f80fd34a4f4c17",
      "value": 29
     }
    },
    "eeacbe8365624f17af559e5d9321d9db": {
     "model_module": "@jupyter-widgets/controls",
     "model_module_version": "1.5.0",
     "model_name": "HTMLModel",
     "state": {
      "_dom_classes": [],
      "_model_module": "@jupyter-widgets/controls",
      "_model_module_version": "1.5.0",
      "_model_name": "HTMLModel",
      "_view_count": null,
      "_view_module": "@jupyter-widgets/controls",
      "_view_module_version": "1.5.0",
      "_view_name": "HTMLView",
      "description": "",
      "description_tooltip": null,
      "layout": "IPY_MODEL_7df90d8c929b49a982b72b8098cf3af0",
      "placeholder": "​",
      "style": "IPY_MODEL_5b03974f9cde4c1fb634eff8ec64e60f",
      "value": "100%"
     }
    },
    "f02391ead1dd4e42b56cd7c3d846e34d": {
     "model_module": "@jupyter-widgets/base",
     "model_module_version": "1.2.0",
     "model_name": "LayoutModel",
     "state": {
      "_model_module": "@jupyter-widgets/base",
      "_model_module_version": "1.2.0",
      "_model_name": "LayoutModel",
      "_view_count": null,
      "_view_module": "@jupyter-widgets/base",
      "_view_module_version": "1.2.0",
      "_view_name": "LayoutView",
      "align_content": null,
      "align_items": null,
      "align_self": null,
      "border": null,
      "bottom": null,
      "display": null,
      "flex": null,
      "flex_flow": null,
      "grid_area": null,
      "grid_auto_columns": null,
      "grid_auto_flow": null,
      "grid_auto_rows": null,
      "grid_column": null,
      "grid_gap": null,
      "grid_row": null,
      "grid_template_areas": null,
      "grid_template_columns": null,
      "grid_template_rows": null,
      "height": null,
      "justify_content": null,
      "justify_items": null,
      "left": null,
      "margin": null,
      "max_height": null,
      "max_width": null,
      "min_height": null,
      "min_width": null,
      "object_fit": null,
      "object_position": null,
      "order": null,
      "overflow": null,
      "overflow_x": null,
      "overflow_y": null,
      "padding": null,
      "right": null,
      "top": null,
      "visibility": null,
      "width": null
     }
    },
    "fbb6c164463b4804accf8c48d7135caa": {
     "model_module": "@jupyter-widgets/controls",
     "model_module_version": "1.5.0",
     "model_name": "DescriptionStyleModel",
     "state": {
      "_model_module": "@jupyter-widgets/controls",
      "_model_module_version": "1.5.0",
      "_model_name": "DescriptionStyleModel",
      "_view_count": null,
      "_view_module": "@jupyter-widgets/base",
      "_view_module_version": "1.2.0",
      "_view_name": "StyleView",
      "description_width": ""
     }
    }
   }
  }
 },
 "nbformat": 4,
 "nbformat_minor": 4
}
